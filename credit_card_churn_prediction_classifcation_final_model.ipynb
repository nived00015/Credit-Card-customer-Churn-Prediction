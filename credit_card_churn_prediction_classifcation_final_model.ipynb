{
  "cells": [
    {
      "cell_type": "code",
      "execution_count": null,
      "id": "3e58a7d7",
      "metadata": {
        "_cell_guid": "b1076dfc-b9ad-4769-8c92-a6c4dae69d19",
        "_uuid": "8f2839f25d086af736a60e9eeb907d3b93b6e0e5",
        "execution": {
          "iopub.execute_input": "2022-08-24T10:00:57.206441Z",
          "iopub.status.busy": "2022-08-24T10:00:57.205658Z",
          "iopub.status.idle": "2022-08-24T10:00:58.896767Z",
          "shell.execute_reply": "2022-08-24T10:00:58.895513Z"
        },
        "papermill": {
          "duration": 1.732301,
          "end_time": "2022-08-24T10:00:58.899830",
          "exception": false,
          "start_time": "2022-08-24T10:00:57.167529",
          "status": "completed"
        },
        "tags": [],
        "id": "3e58a7d7"
      },
      "outputs": [],
      "source": [
        "# This Python 3 environment comes with many helpful analytics libraries installed\n",
        "# It is defined by the kaggle/python Docker image: https://github.com/kaggle/docker-python\n",
        "# For example, here's several helpful packages to load\n",
        "\n",
        "import numpy as np # linear algebra\n",
        "import pandas as pd # data processing, CSV file I/O (e.g. pd.read_csv)\n",
        "import sklearn\n",
        "import matplotlib.pyplot as plt\n",
        "import seaborn as sb\n",
        "import imblearn\n",
        "\n",
        "# Input data files are available in the read-only \"../input/\" directory\n",
        "# For example, running this (by clicking run or pressing Shift+Enter) will list all files under the input directory\n",
        "\n",
        "import os\n",
        "for dirname, _, filenames in os.walk('/kaggle/input'):\n",
        "    for filename in filenames:\n",
        "        print(os.path.join(dirname, filename))\n",
        "\n",
        "# You can write up to 20GB to the current directory (/kaggle/working/) that gets preserved as output when you create a version using \"Save & Run All\" \n",
        "# You can also write temporary files to /kaggle/temp/, but they won't be saved outside of the current session"
      ]
    },
    {
      "cell_type": "markdown",
      "id": "954c0cf6",
      "metadata": {
        "papermill": {
          "duration": 0.031697,
          "end_time": "2022-08-24T10:00:58.964548",
          "exception": false,
          "start_time": "2022-08-24T10:00:58.932851",
          "status": "completed"
        },
        "tags": [],
        "id": "954c0cf6"
      },
      "source": [
        "##### Read the dataset"
      ]
    },
    {
      "cell_type": "code",
      "execution_count": null,
      "id": "06443ac1",
      "metadata": {
        "execution": {
          "iopub.execute_input": "2022-08-24T10:00:59.033512Z",
          "iopub.status.busy": "2022-08-24T10:00:59.033086Z",
          "iopub.status.idle": "2022-08-24T10:00:59.129706Z",
          "shell.execute_reply": "2022-08-24T10:00:59.128541Z"
        },
        "papermill": {
          "duration": 0.135558,
          "end_time": "2022-08-24T10:00:59.132373",
          "exception": false,
          "start_time": "2022-08-24T10:00:58.996815",
          "status": "completed"
        },
        "tags": [],
        "id": "06443ac1"
      },
      "outputs": [],
      "source": [
        "credit_churn_dataset= pd.read_csv('credit_card_churn.csv')\n",
        "credit_churn_dataset.head()"
      ]
    },
    {
      "cell_type": "code",
      "execution_count": null,
      "id": "30e98a38",
      "metadata": {
        "execution": {
          "iopub.execute_input": "2022-08-24T10:00:59.200544Z",
          "iopub.status.busy": "2022-08-24T10:00:59.200160Z",
          "iopub.status.idle": "2022-08-24T10:00:59.206468Z",
          "shell.execute_reply": "2022-08-24T10:00:59.205214Z"
        },
        "papermill": {
          "duration": 0.044745,
          "end_time": "2022-08-24T10:00:59.209914",
          "exception": false,
          "start_time": "2022-08-24T10:00:59.165169",
          "status": "completed"
        },
        "tags": [],
        "id": "30e98a38"
      },
      "outputs": [],
      "source": [
        "print(credit_churn_dataset.columns)"
      ]
    },
    {
      "cell_type": "code",
      "execution_count": null,
      "id": "672f6334",
      "metadata": {
        "execution": {
          "iopub.execute_input": "2022-08-24T10:00:59.278392Z",
          "iopub.status.busy": "2022-08-24T10:00:59.277556Z",
          "iopub.status.idle": "2022-08-24T10:00:59.287811Z",
          "shell.execute_reply": "2022-08-24T10:00:59.286882Z"
        },
        "papermill": {
          "duration": 0.046933,
          "end_time": "2022-08-24T10:00:59.290248",
          "exception": false,
          "start_time": "2022-08-24T10:00:59.243315",
          "status": "completed"
        },
        "tags": [],
        "id": "672f6334"
      },
      "outputs": [],
      "source": [
        "#### drop off the last 2 columns [ as they are not neccessary]\n",
        "credit_churn_dataset.drop(['Naive_Bayes_Classifier_Attrition_Flag_Card_Category_Contacts_Count_12_mon_Dependent_count_Education_Level_Months_Inactive_12_mon_1','Naive_Bayes_Classifier_Attrition_Flag_Card_Category_Contacts_Count_12_mon_Dependent_count_Education_Level_Months_Inactive_12_mon_2'],axis=1,inplace=True)"
      ]
    },
    {
      "cell_type": "code",
      "execution_count": null,
      "id": "e6b0a6b3",
      "metadata": {
        "execution": {
          "iopub.execute_input": "2022-08-24T10:00:59.357479Z",
          "iopub.status.busy": "2022-08-24T10:00:59.356697Z",
          "iopub.status.idle": "2022-08-24T10:00:59.382360Z",
          "shell.execute_reply": "2022-08-24T10:00:59.381239Z"
        },
        "papermill": {
          "duration": 0.061688,
          "end_time": "2022-08-24T10:00:59.384607",
          "exception": false,
          "start_time": "2022-08-24T10:00:59.322919",
          "status": "completed"
        },
        "tags": [],
        "id": "e6b0a6b3"
      },
      "outputs": [],
      "source": [
        "credit_churn_dataset.head()"
      ]
    },
    {
      "cell_type": "code",
      "execution_count": null,
      "id": "f2cffca7",
      "metadata": {
        "execution": {
          "iopub.execute_input": "2022-08-24T10:00:59.452357Z",
          "iopub.status.busy": "2022-08-24T10:00:59.451550Z",
          "iopub.status.idle": "2022-08-24T10:00:59.480101Z",
          "shell.execute_reply": "2022-08-24T10:00:59.478869Z"
        },
        "papermill": {
          "duration": 0.065861,
          "end_time": "2022-08-24T10:00:59.483078",
          "exception": false,
          "start_time": "2022-08-24T10:00:59.417217",
          "status": "completed"
        },
        "tags": [],
        "id": "f2cffca7"
      },
      "outputs": [],
      "source": [
        "#### here Attrition_Flag is the dependent variable\n",
        "#### first let's split the data into train and test and then use the train for further analysis\n",
        "from sklearn.model_selection import train_test_split\n",
        "X_train,X_test,y_train,y_test= train_test_split(credit_churn_dataset.drop('Attrition_Flag',axis=1),credit_churn_dataset['Attrition_Flag'],random_state=0,test_size=0.2,stratify=credit_churn_dataset['Attrition_Flag'])\n",
        "train_df= pd.concat([X_train,y_train],axis=1)"
      ]
    },
    {
      "cell_type": "code",
      "execution_count": null,
      "id": "5b827e18",
      "metadata": {
        "execution": {
          "iopub.execute_input": "2022-08-24T10:00:59.552081Z",
          "iopub.status.busy": "2022-08-24T10:00:59.551276Z",
          "iopub.status.idle": "2022-08-24T10:00:59.557333Z",
          "shell.execute_reply": "2022-08-24T10:00:59.556075Z"
        },
        "papermill": {
          "duration": 0.043017,
          "end_time": "2022-08-24T10:00:59.559781",
          "exception": false,
          "start_time": "2022-08-24T10:00:59.516764",
          "status": "completed"
        },
        "tags": [],
        "id": "5b827e18"
      },
      "outputs": [],
      "source": [
        "X_test_copy= X_test.copy()\n",
        "y_test_copy= y_test.copy()"
      ]
    },
    {
      "cell_type": "code",
      "execution_count": null,
      "id": "6df8ac2e",
      "metadata": {
        "execution": {
          "iopub.execute_input": "2022-08-24T10:00:59.627721Z",
          "iopub.status.busy": "2022-08-24T10:00:59.626954Z",
          "iopub.status.idle": "2022-08-24T10:00:59.651502Z",
          "shell.execute_reply": "2022-08-24T10:00:59.650362Z"
        },
        "papermill": {
          "duration": 0.061294,
          "end_time": "2022-08-24T10:00:59.653885",
          "exception": false,
          "start_time": "2022-08-24T10:00:59.592591",
          "status": "completed"
        },
        "tags": [],
        "id": "6df8ac2e"
      },
      "outputs": [],
      "source": [
        "train_df.head()"
      ]
    },
    {
      "cell_type": "code",
      "execution_count": null,
      "id": "a9e336c9",
      "metadata": {
        "execution": {
          "iopub.execute_input": "2022-08-24T10:00:59.722613Z",
          "iopub.status.busy": "2022-08-24T10:00:59.721912Z",
          "iopub.status.idle": "2022-08-24T10:00:59.726694Z",
          "shell.execute_reply": "2022-08-24T10:00:59.725926Z"
        },
        "papermill": {
          "duration": 0.041642,
          "end_time": "2022-08-24T10:00:59.728943",
          "exception": false,
          "start_time": "2022-08-24T10:00:59.687301",
          "status": "completed"
        },
        "tags": [],
        "id": "a9e336c9"
      },
      "outputs": [],
      "source": [
        "#### now we will be using train_df for studying the dataset, doing eda and training the model/algorithm"
      ]
    },
    {
      "cell_type": "code",
      "execution_count": null,
      "id": "758ce868",
      "metadata": {
        "execution": {
          "iopub.execute_input": "2022-08-24T10:00:59.797310Z",
          "iopub.status.busy": "2022-08-24T10:00:59.796639Z",
          "iopub.status.idle": "2022-08-24T10:00:59.820744Z",
          "shell.execute_reply": "2022-08-24T10:00:59.819486Z"
        },
        "papermill": {
          "duration": 0.061505,
          "end_time": "2022-08-24T10:00:59.823570",
          "exception": false,
          "start_time": "2022-08-24T10:00:59.762065",
          "status": "completed"
        },
        "tags": [],
        "id": "758ce868"
      },
      "outputs": [],
      "source": [
        "train_df.info()"
      ]
    },
    {
      "cell_type": "markdown",
      "id": "857e77f8",
      "metadata": {
        "papermill": {
          "duration": 0.033532,
          "end_time": "2022-08-24T10:00:59.891948",
          "exception": false,
          "start_time": "2022-08-24T10:00:59.858416",
          "status": "completed"
        },
        "tags": [],
        "id": "857e77f8"
      },
      "source": [
        "#### Observations\n",
        "\n",
        "1. No missing values were observed\n",
        "\n",
        "2. gender, education level,martial status, income category, card category are datatype object, so they would be categorical features"
      ]
    },
    {
      "cell_type": "code",
      "execution_count": null,
      "id": "3b571e00",
      "metadata": {
        "execution": {
          "iopub.execute_input": "2022-08-24T10:00:59.961717Z",
          "iopub.status.busy": "2022-08-24T10:00:59.961059Z",
          "iopub.status.idle": "2022-08-24T10:00:59.972841Z",
          "shell.execute_reply": "2022-08-24T10:00:59.971866Z"
        },
        "papermill": {
          "duration": 0.049651,
          "end_time": "2022-08-24T10:00:59.975090",
          "exception": false,
          "start_time": "2022-08-24T10:00:59.925439",
          "status": "completed"
        },
        "tags": [],
        "id": "3b571e00"
      },
      "outputs": [],
      "source": [
        "#### finding the missing values\n",
        "train_df.isnull().sum()"
      ]
    },
    {
      "cell_type": "markdown",
      "id": "85040155",
      "metadata": {
        "papermill": {
          "duration": 0.039307,
          "end_time": "2022-08-24T10:01:00.048293",
          "exception": false,
          "start_time": "2022-08-24T10:01:00.008986",
          "status": "completed"
        },
        "tags": [],
        "id": "85040155"
      },
      "source": [
        "##### there is no missing values in train_dataset"
      ]
    },
    {
      "cell_type": "code",
      "execution_count": null,
      "id": "f0d90438",
      "metadata": {
        "execution": {
          "iopub.execute_input": "2022-08-24T10:01:00.131063Z",
          "iopub.status.busy": "2022-08-24T10:01:00.130208Z",
          "iopub.status.idle": "2022-08-24T10:01:00.142903Z",
          "shell.execute_reply": "2022-08-24T10:01:00.141727Z"
        },
        "papermill": {
          "duration": 0.059256,
          "end_time": "2022-08-24T10:01:00.145195",
          "exception": false,
          "start_time": "2022-08-24T10:01:00.085939",
          "status": "completed"
        },
        "tags": [],
        "id": "f0d90438"
      },
      "outputs": [],
      "source": [
        "X_test.isnull().sum()"
      ]
    },
    {
      "cell_type": "markdown",
      "id": "d3ba9bdb",
      "metadata": {
        "papermill": {
          "duration": 0.033443,
          "end_time": "2022-08-24T10:01:00.213033",
          "exception": false,
          "start_time": "2022-08-24T10:01:00.179590",
          "status": "completed"
        },
        "tags": [],
        "id": "d3ba9bdb"
      },
      "source": [
        "##### There is no missing values in test dataset "
      ]
    },
    {
      "cell_type": "markdown",
      "id": "d57eb555",
      "metadata": {
        "papermill": {
          "duration": 0.033314,
          "end_time": "2022-08-24T10:01:00.279701",
          "exception": false,
          "start_time": "2022-08-24T10:01:00.246387",
          "status": "completed"
        },
        "tags": [],
        "id": "d57eb555"
      },
      "source": [
        "#### Exploratory Data Analysis"
      ]
    },
    {
      "cell_type": "code",
      "execution_count": null,
      "id": "14c96673",
      "metadata": {
        "execution": {
          "iopub.execute_input": "2022-08-24T10:01:00.348913Z",
          "iopub.status.busy": "2022-08-24T10:01:00.348210Z",
          "iopub.status.idle": "2022-08-24T10:01:00.408598Z",
          "shell.execute_reply": "2022-08-24T10:01:00.407553Z"
        },
        "papermill": {
          "duration": 0.097647,
          "end_time": "2022-08-24T10:01:00.410966",
          "exception": false,
          "start_time": "2022-08-24T10:01:00.313319",
          "status": "completed"
        },
        "tags": [],
        "id": "14c96673"
      },
      "outputs": [],
      "source": [
        "train_df.describe()"
      ]
    },
    {
      "cell_type": "code",
      "execution_count": null,
      "id": "c31d6a71",
      "metadata": {
        "execution": {
          "iopub.execute_input": "2022-08-24T10:01:00.481318Z",
          "iopub.status.busy": "2022-08-24T10:01:00.480633Z",
          "iopub.status.idle": "2022-08-24T10:01:00.673723Z",
          "shell.execute_reply": "2022-08-24T10:01:00.672420Z"
        },
        "papermill": {
          "duration": 0.230744,
          "end_time": "2022-08-24T10:01:00.676158",
          "exception": false,
          "start_time": "2022-08-24T10:01:00.445414",
          "status": "completed"
        },
        "tags": [],
        "id": "c31d6a71"
      },
      "outputs": [],
      "source": [
        "#### find the propotion of Attrion Flag in train_df data\n",
        "plt.figure(figsize=(12,8))\n",
        "sb.countplot(data=train_df,x='Attrition_Flag')\n",
        "plt.title('Count of attrition flag in train data')\n",
        "plt.show()"
      ]
    },
    {
      "cell_type": "markdown",
      "id": "517ba122",
      "metadata": {
        "papermill": {
          "duration": 0.033801,
          "end_time": "2022-08-24T10:01:00.744239",
          "exception": false,
          "start_time": "2022-08-24T10:01:00.710438",
          "status": "completed"
        },
        "tags": [],
        "id": "517ba122"
      },
      "source": [
        "##### Observations\n",
        "\n",
        "1. Attrited Customer is in low number then existing customer (around 7 times)\n",
        "\n",
        "2. It can be considered as the case of imbalanced dataset"
      ]
    },
    {
      "cell_type": "code",
      "execution_count": null,
      "id": "d7d04af3",
      "metadata": {
        "execution": {
          "iopub.execute_input": "2022-08-24T10:01:00.815187Z",
          "iopub.status.busy": "2022-08-24T10:01:00.814527Z",
          "iopub.status.idle": "2022-08-24T10:01:01.962443Z",
          "shell.execute_reply": "2022-08-24T10:01:01.961123Z"
        },
        "papermill": {
          "duration": 1.186558,
          "end_time": "2022-08-24T10:01:01.965199",
          "exception": false,
          "start_time": "2022-08-24T10:01:00.778641",
          "status": "completed"
        },
        "tags": [],
        "id": "d7d04af3"
      },
      "outputs": [],
      "source": [
        "#### drawing the plot of object columns count with respect to Attrition_Flag\n",
        "cols= list(train_df.select_dtypes(object).columns)\n",
        "cols.remove('Attrition_Flag')\n",
        "for i in cols:\n",
        "    plt.figure(figsize=(12,8))\n",
        "    sb.countplot(data=train_df,x=i)\n",
        "    plt.title(f'Count of train_df with respect to {i} feature')\n",
        "    plt.show()\n",
        "    \n"
      ]
    },
    {
      "cell_type": "markdown",
      "id": "bd340654",
      "metadata": {
        "papermill": {
          "duration": 0.036231,
          "end_time": "2022-08-24T10:01:02.038131",
          "exception": false,
          "start_time": "2022-08-24T10:01:02.001900",
          "status": "completed"
        },
        "tags": [],
        "id": "bd340654"
      },
      "source": [
        "##### Observations\n",
        "\n",
        "1. Except Gender count plot, all other count plot were not uniformly distributed.\n",
        "\n",
        "2. For card category, Blue card has most count, while rest others are having least count"
      ]
    },
    {
      "cell_type": "code",
      "execution_count": null,
      "id": "1cd98641",
      "metadata": {
        "execution": {
          "iopub.execute_input": "2022-08-24T10:01:02.112256Z",
          "iopub.status.busy": "2022-08-24T10:01:02.111578Z",
          "iopub.status.idle": "2022-08-24T10:01:02.305126Z",
          "shell.execute_reply": "2022-08-24T10:01:02.303882Z"
        },
        "papermill": {
          "duration": 0.234325,
          "end_time": "2022-08-24T10:01:02.308483",
          "exception": false,
          "start_time": "2022-08-24T10:01:02.074158",
          "status": "completed"
        },
        "tags": [],
        "id": "1cd98641"
      },
      "outputs": [],
      "source": [
        "##### Taking the count based on dependents\n",
        "i='Dependent_count'\n",
        "plt.figure(figsize=(12,8))\n",
        "sb.countplot(data=train_df,x=i)\n",
        "plt.title(f'Count of  {i} in train data')\n",
        "plt.show()\n",
        "    "
      ]
    },
    {
      "cell_type": "markdown",
      "id": "de573edc",
      "metadata": {
        "papermill": {
          "duration": 0.039192,
          "end_time": "2022-08-24T10:01:02.386409",
          "exception": false,
          "start_time": "2022-08-24T10:01:02.347217",
          "status": "completed"
        },
        "tags": [],
        "id": "de573edc"
      },
      "source": [
        "#### Observations\n",
        "\n",
        "1. Dependent count has non-uniform distribution"
      ]
    },
    {
      "cell_type": "code",
      "execution_count": null,
      "id": "29762309",
      "metadata": {
        "execution": {
          "iopub.execute_input": "2022-08-24T10:01:02.461382Z",
          "iopub.status.busy": "2022-08-24T10:01:02.460618Z",
          "iopub.status.idle": "2022-08-24T10:01:02.467437Z",
          "shell.execute_reply": "2022-08-24T10:01:02.466485Z"
        },
        "papermill": {
          "duration": 0.047247,
          "end_time": "2022-08-24T10:01:02.470055",
          "exception": false,
          "start_time": "2022-08-24T10:01:02.422808",
          "status": "completed"
        },
        "tags": [],
        "id": "29762309"
      },
      "outputs": [],
      "source": [
        "cont_cols= list(train_df.select_dtypes(['int64','float64']).columns)\n",
        "cont_cols.remove('CLIENTNUM')"
      ]
    },
    {
      "cell_type": "code",
      "execution_count": null,
      "id": "96c36977",
      "metadata": {
        "execution": {
          "iopub.execute_input": "2022-08-24T10:01:02.545808Z",
          "iopub.status.busy": "2022-08-24T10:01:02.545055Z",
          "iopub.status.idle": "2022-08-24T10:01:06.905533Z",
          "shell.execute_reply": "2022-08-24T10:01:06.904241Z"
        },
        "papermill": {
          "duration": 4.401204,
          "end_time": "2022-08-24T10:01:06.908126",
          "exception": false,
          "start_time": "2022-08-24T10:01:02.506922",
          "status": "completed"
        },
        "tags": [],
        "id": "96c36977"
      },
      "outputs": [],
      "source": [
        "for i in cont_cols:\n",
        "    plt.figure(figsize=(12,8))\n",
        "    sb.distplot(train_df[i],kde=True)\n",
        "    plt.title(f'Distribution of data for {i}')\n",
        "    plt.show()\n",
        "    \n",
        "    "
      ]
    },
    {
      "cell_type": "markdown",
      "id": "d8b14b8d",
      "metadata": {
        "papermill": {
          "duration": 0.043844,
          "end_time": "2022-08-24T10:01:06.997284",
          "exception": false,
          "start_time": "2022-08-24T10:01:06.953440",
          "status": "completed"
        },
        "tags": [],
        "id": "d8b14b8d"
      },
      "source": [
        "##### Observations\n",
        "\n",
        "1. From the distribution, it could see that from the training dataset, customer age are coming in between 40-50\n",
        "\n",
        "2.  Dependent count is multimodal, but looks symmetrical from both sides\n",
        "\n",
        "3. Months on books is normal distribution where data is more b/w 30-50\n",
        "\n",
        "4. Total Relationship count is multimodal\n",
        "\n",
        "5. Months_inactive_12months is multimodal and if left skewed\n",
        "\n",
        "6. Contacts_count_12_mon is multimodal and left skewed\n",
        "\n",
        "7. Credit_Limit is left skewed distribution having more credit limit in range <5000 \n",
        "\n",
        "8. Total_Revolving_Balance is multimodal with most revolving balance b/w 0 and at near around 1500\n",
        "\n",
        "9. Avg_Open_To_Buy has left skewed distribution with most data near to zero\n",
        "\n",
        "10. Total amt_change Q4_over_Q1 is left skewed with most being b/w 0.5 and 1.0 which also indicates, transaction has been less in Q4 comparing with Q1\n",
        "\n",
        "11. Total_Trans_Amt over last 12 months distribution is multmodal with left skewed \n",
        "\n",
        "12. Total_Trans_Ct has bimodal distribution\n",
        "\n",
        "13. Total_Trans_Chng_Q4_Q1 has left skewed distribution mostly ranging between 0.5 and 1.0, which indicates most transaction are less in Q4 comparing with Q1\n",
        "\n",
        "14. Average_Card_Utlization_Ratio has left skewed distribution, mostly between 0.3 and 0.0 which itself is good (good card utlization is <=0.3) "
      ]
    },
    {
      "cell_type": "code",
      "execution_count": null,
      "id": "0d94c1f0",
      "metadata": {
        "execution": {
          "iopub.execute_input": "2022-08-24T10:01:07.088415Z",
          "iopub.status.busy": "2022-08-24T10:01:07.087633Z",
          "iopub.status.idle": "2022-08-24T10:01:07.103672Z",
          "shell.execute_reply": "2022-08-24T10:01:07.102747Z"
        },
        "papermill": {
          "duration": 0.063977,
          "end_time": "2022-08-24T10:01:07.105951",
          "exception": false,
          "start_time": "2022-08-24T10:01:07.041974",
          "status": "completed"
        },
        "tags": [],
        "id": "0d94c1f0"
      },
      "outputs": [],
      "source": [
        "train_df.groupby('Income_Category').aggregate({'Card_Category':'value_counts'})"
      ]
    },
    {
      "cell_type": "code",
      "execution_count": null,
      "id": "cb84bc87",
      "metadata": {
        "execution": {
          "iopub.execute_input": "2022-08-24T10:01:07.196703Z",
          "iopub.status.busy": "2022-08-24T10:01:07.195925Z",
          "iopub.status.idle": "2022-08-24T10:01:07.520484Z",
          "shell.execute_reply": "2022-08-24T10:01:07.519322Z"
        },
        "papermill": {
          "duration": 0.372557,
          "end_time": "2022-08-24T10:01:07.522892",
          "exception": false,
          "start_time": "2022-08-24T10:01:07.150335",
          "status": "completed"
        },
        "tags": [],
        "id": "cb84bc87"
      },
      "outputs": [],
      "source": [
        "#### taking the count of income category with respect to card category\n",
        "plt.figure(figsize=(12,8))\n",
        "sb.countplot(data=train_df,x='Income_Category',hue='Card_Category')\n",
        "plt.title('Income Category with respect to card category count plot')\n",
        "plt.show()"
      ]
    },
    {
      "cell_type": "markdown",
      "id": "65f613e4",
      "metadata": {
        "papermill": {
          "duration": 0.045975,
          "end_time": "2022-08-24T10:01:07.614206",
          "exception": false,
          "start_time": "2022-08-24T10:01:07.568231",
          "status": "completed"
        },
        "tags": [],
        "id": "65f613e4"
      },
      "source": [
        "#### Observations\n",
        "\n",
        "For all income categories, Blue card is preffered most than others"
      ]
    },
    {
      "cell_type": "code",
      "execution_count": null,
      "id": "caee7a36",
      "metadata": {
        "execution": {
          "iopub.execute_input": "2022-08-24T10:01:07.705611Z",
          "iopub.status.busy": "2022-08-24T10:01:07.704913Z",
          "iopub.status.idle": "2022-08-24T10:01:07.961926Z",
          "shell.execute_reply": "2022-08-24T10:01:07.960752Z"
        },
        "papermill": {
          "duration": 0.305916,
          "end_time": "2022-08-24T10:01:07.964541",
          "exception": false,
          "start_time": "2022-08-24T10:01:07.658625",
          "status": "completed"
        },
        "tags": [],
        "id": "caee7a36"
      },
      "outputs": [],
      "source": [
        "df1=train_df.groupby('Income_Category').aggregate({'Avg_Utilization_Ratio':'mean'})\n",
        "cols=['Unknown','Less than $40K','$40K - $60K','$60K - $80K','$80K - $120K','$120K +']\n",
        "plt.figure(figsize=(12,8))\n",
        "sb.barplot(data=df1,x=df1.index,y=df1['Avg_Utilization_Ratio'],order=cols)\n",
        "plt.title('Average_Card_Utlization Ratio with respect to card category')\n",
        "plt.show()"
      ]
    },
    {
      "cell_type": "markdown",
      "id": "2a50e954",
      "metadata": {
        "papermill": {
          "duration": 0.048488,
          "end_time": "2022-08-24T10:01:08.059629",
          "exception": false,
          "start_time": "2022-08-24T10:01:08.011141",
          "status": "completed"
        },
        "tags": [],
        "id": "2a50e954"
      },
      "source": [
        "#### Observations\n",
        "\n",
        "1. Except for unknown, other category trend is as followa, as income range increases, Credit_Utilization_Ratio decreases"
      ]
    },
    {
      "cell_type": "code",
      "execution_count": null,
      "id": "19103a94",
      "metadata": {
        "execution": {
          "iopub.execute_input": "2022-08-24T10:01:08.154361Z",
          "iopub.status.busy": "2022-08-24T10:01:08.153365Z",
          "iopub.status.idle": "2022-08-24T10:01:08.167854Z",
          "shell.execute_reply": "2022-08-24T10:01:08.166729Z"
        },
        "papermill": {
          "duration": 0.064342,
          "end_time": "2022-08-24T10:01:08.170175",
          "exception": false,
          "start_time": "2022-08-24T10:01:08.105833",
          "status": "completed"
        },
        "tags": [],
        "id": "19103a94"
      },
      "outputs": [],
      "source": [
        "df2= train_df.groupby('Card_Category').aggregate({'Total_Relationship_Count':pd.Series.mode})\n",
        "df2.columns=['Relationship count max occured']\n",
        "df2"
      ]
    },
    {
      "cell_type": "code",
      "execution_count": null,
      "id": "34e6f974",
      "metadata": {
        "execution": {
          "iopub.execute_input": "2022-08-24T10:01:08.263805Z",
          "iopub.status.busy": "2022-08-24T10:01:08.263131Z",
          "iopub.status.idle": "2022-08-24T10:01:08.458932Z",
          "shell.execute_reply": "2022-08-24T10:01:08.458049Z"
        },
        "papermill": {
          "duration": 0.245157,
          "end_time": "2022-08-24T10:01:08.461177",
          "exception": false,
          "start_time": "2022-08-24T10:01:08.216020",
          "status": "completed"
        },
        "tags": [],
        "id": "34e6f974"
      },
      "outputs": [],
      "source": [
        "plt.figure(figsize=(12,8))\n",
        "sb.barplot(data=df1,x=df2.index,y=df2['Relationship count max occured'])\n",
        "plt.title('Most Products held  with respect to card category')\n",
        "plt.show()"
      ]
    },
    {
      "cell_type": "markdown",
      "id": "3731b96c",
      "metadata": {
        "papermill": {
          "duration": 0.045518,
          "end_time": "2022-08-24T10:01:08.552291",
          "exception": false,
          "start_time": "2022-08-24T10:01:08.506773",
          "status": "completed"
        },
        "tags": [],
        "id": "3731b96c"
      },
      "source": [
        "#### Observations\n",
        "\n",
        "1. Blue and platinum card taken most products out of bank while others has taken around 2"
      ]
    },
    {
      "cell_type": "code",
      "execution_count": null,
      "id": "4a9644ff",
      "metadata": {
        "execution": {
          "iopub.execute_input": "2022-08-24T10:01:08.645780Z",
          "iopub.status.busy": "2022-08-24T10:01:08.645127Z",
          "iopub.status.idle": "2022-08-24T10:01:09.052035Z",
          "shell.execute_reply": "2022-08-24T10:01:09.050841Z"
        },
        "papermill": {
          "duration": 0.45682,
          "end_time": "2022-08-24T10:01:09.054790",
          "exception": false,
          "start_time": "2022-08-24T10:01:08.597970",
          "status": "completed"
        },
        "tags": [],
        "id": "4a9644ff"
      },
      "outputs": [],
      "source": [
        "df2= train_df.groupby('Income_Category').aggregate({'Total_Relationship_Count':pd.Series.mode})\n",
        "df2.columns=['Relationship count max occured']\n",
        "cols=['Unknown','Less than $40K','$40K - $60K','$60K - $80K','$80K - $120K','$120K +']\n",
        "plt.figure(figsize=(12,8))\n",
        "sb.barplot(data=df2,x=df2.index,y=df2['Relationship count max occured'],order=cols)\n",
        "plt.title('Most products taken with respect to income category')\n",
        "plt.show()"
      ]
    },
    {
      "cell_type": "markdown",
      "id": "3f2a07fd",
      "metadata": {
        "papermill": {
          "duration": 0.045978,
          "end_time": "2022-08-24T10:01:09.147479",
          "exception": false,
          "start_time": "2022-08-24T10:01:09.101501",
          "status": "completed"
        },
        "tags": [],
        "id": "3f2a07fd"
      },
      "source": [
        "#### Observations\n",
        "\n",
        "1. All are equally same for all income category"
      ]
    },
    {
      "cell_type": "code",
      "execution_count": null,
      "id": "fc3cffb4",
      "metadata": {
        "execution": {
          "iopub.execute_input": "2022-08-24T10:01:09.242245Z",
          "iopub.status.busy": "2022-08-24T10:01:09.241863Z",
          "iopub.status.idle": "2022-08-24T10:01:09.459020Z",
          "shell.execute_reply": "2022-08-24T10:01:09.457845Z"
        },
        "papermill": {
          "duration": 0.267825,
          "end_time": "2022-08-24T10:01:09.461438",
          "exception": false,
          "start_time": "2022-08-24T10:01:09.193613",
          "status": "completed"
        },
        "tags": [],
        "id": "fc3cffb4"
      },
      "outputs": [],
      "source": [
        "plt.figure(figsize=(12,8))\n",
        "plt.scatter(train_df['Months_on_book'],train_df['Total_Relationship_Count'])\n",
        "plt.title('Total products held w.r.t Months on book')\n",
        "plt.xlabel('Months_on_book')\n",
        "plt.ylabel('Total_Relationship_count')\n",
        "plt.show()"
      ]
    },
    {
      "cell_type": "markdown",
      "id": "34b526b0",
      "metadata": {
        "papermill": {
          "duration": 0.046301,
          "end_time": "2022-08-24T10:01:09.554309",
          "exception": false,
          "start_time": "2022-08-24T10:01:09.508008",
          "status": "completed"
        },
        "tags": [],
        "id": "34b526b0"
      },
      "source": [
        "#### Observations\n",
        "\n",
        "1. There is no relation between month_on_book and Total_Relationship_count"
      ]
    },
    {
      "cell_type": "code",
      "execution_count": null,
      "id": "602bd724",
      "metadata": {
        "execution": {
          "iopub.execute_input": "2022-08-24T10:01:09.649925Z",
          "iopub.status.busy": "2022-08-24T10:01:09.649198Z",
          "iopub.status.idle": "2022-08-24T10:01:10.140462Z",
          "shell.execute_reply": "2022-08-24T10:01:10.139493Z"
        },
        "papermill": {
          "duration": 0.541915,
          "end_time": "2022-08-24T10:01:10.142926",
          "exception": false,
          "start_time": "2022-08-24T10:01:09.601011",
          "status": "completed"
        },
        "tags": [],
        "id": "602bd724"
      },
      "outputs": [],
      "source": [
        "plt.figure(figsize=(12,8))\n",
        "sb.barplot(data=train_df,x='Income_Category',y='Total_Revolving_Bal',order=cols)\n",
        "plt.title('Total Revolving Balance with income category')"
      ]
    },
    {
      "cell_type": "markdown",
      "id": "31068171",
      "metadata": {
        "papermill": {
          "duration": 0.046771,
          "end_time": "2022-08-24T10:01:10.237606",
          "exception": false,
          "start_time": "2022-08-24T10:01:10.190835",
          "status": "completed"
        },
        "tags": [],
        "id": "31068171"
      },
      "source": [
        "#### Observations\n",
        "\n",
        "1. No realtion found , as all income categories has same almost revolving balance\n"
      ]
    },
    {
      "cell_type": "code",
      "execution_count": null,
      "id": "b4d85c2d",
      "metadata": {
        "execution": {
          "iopub.execute_input": "2022-08-24T10:01:10.336661Z",
          "iopub.status.busy": "2022-08-24T10:01:10.335930Z",
          "iopub.status.idle": "2022-08-24T10:01:10.344774Z",
          "shell.execute_reply": "2022-08-24T10:01:10.343719Z"
        },
        "papermill": {
          "duration": 0.060695,
          "end_time": "2022-08-24T10:01:10.347192",
          "exception": false,
          "start_time": "2022-08-24T10:01:10.286497",
          "status": "completed"
        },
        "tags": [],
        "id": "b4d85c2d"
      },
      "outputs": [],
      "source": [
        "cat_cols= list(train_df.select_dtypes(object).columns)\n",
        "cat_cols"
      ]
    },
    {
      "cell_type": "code",
      "execution_count": null,
      "id": "aa050162",
      "metadata": {
        "execution": {
          "iopub.execute_input": "2022-08-24T10:01:10.445351Z",
          "iopub.status.busy": "2022-08-24T10:01:10.444564Z",
          "iopub.status.idle": "2022-08-24T10:01:10.453593Z",
          "shell.execute_reply": "2022-08-24T10:01:10.452820Z"
        },
        "papermill": {
          "duration": 0.059823,
          "end_time": "2022-08-24T10:01:10.455560",
          "exception": false,
          "start_time": "2022-08-24T10:01:10.395737",
          "status": "completed"
        },
        "tags": [],
        "id": "aa050162"
      },
      "outputs": [],
      "source": [
        "num_cols= list(train_df.select_dtypes(['int64','float64']).columns)\n",
        "num_cols"
      ]
    },
    {
      "cell_type": "code",
      "execution_count": null,
      "id": "57ef6cf6",
      "metadata": {
        "execution": {
          "iopub.execute_input": "2022-08-24T10:01:10.554545Z",
          "iopub.status.busy": "2022-08-24T10:01:10.554118Z",
          "iopub.status.idle": "2022-08-24T10:01:11.828976Z",
          "shell.execute_reply": "2022-08-24T10:01:11.827765Z"
        },
        "papermill": {
          "duration": 1.328242,
          "end_time": "2022-08-24T10:01:11.831828",
          "exception": false,
          "start_time": "2022-08-24T10:01:10.503586",
          "status": "completed"
        },
        "tags": [],
        "id": "57ef6cf6"
      },
      "outputs": [],
      "source": [
        "#### plotting boxplot representation for the categorical variable\n",
        "reqd_cols=['Months_Inactive_12_mon','Total_Amt_Chng_Q4_Q1','Total_Trans_Amt','Total_Trans_Ct','Total_Ct_Chng_Q4_Q1','Avg_Utilization_Ratio','Credit_Limit']\n",
        "for col in cat_cols:\n",
        "    plt.figure(figsize=(12,8))\n",
        "    sb.boxplot(data=train_df,x=col,y=reqd_cols[0])\n",
        "    plt.title(f'Boxplot with {reqd_cols[0]} with {col} ')\n",
        "    plt.show()\n",
        "    print()\n",
        "    print()"
      ]
    },
    {
      "cell_type": "markdown",
      "id": "956c145d",
      "metadata": {
        "papermill": {
          "duration": 0.049729,
          "end_time": "2022-08-24T10:01:11.932944",
          "exception": false,
          "start_time": "2022-08-24T10:01:11.883215",
          "status": "completed"
        },
        "tags": [],
        "id": "956c145d"
      },
      "source": [
        "##### Observations\n",
        "\n",
        "1. No of months were inactive b/w 1-4 , rarely occured 5,6 for almost all categories"
      ]
    },
    {
      "cell_type": "code",
      "execution_count": null,
      "id": "a93feb6d",
      "metadata": {
        "execution": {
          "iopub.execute_input": "2022-08-24T10:01:12.036038Z",
          "iopub.status.busy": "2022-08-24T10:01:12.034541Z",
          "iopub.status.idle": "2022-08-24T10:01:13.247431Z",
          "shell.execute_reply": "2022-08-24T10:01:13.246261Z"
        },
        "papermill": {
          "duration": 1.268051,
          "end_time": "2022-08-24T10:01:13.250751",
          "exception": false,
          "start_time": "2022-08-24T10:01:11.982700",
          "status": "completed"
        },
        "tags": [],
        "id": "a93feb6d"
      },
      "outputs": [],
      "source": [
        "for col in cat_cols:\n",
        "    plt.figure(figsize=(12,8))\n",
        "    sb.boxplot(data=train_df,x=col,y=reqd_cols[1])\n",
        "    plt.title(f'Boxplot with {reqd_cols[1]} with {col} ')\n",
        "    plt.show()\n",
        "    print()\n",
        "    print()"
      ]
    },
    {
      "cell_type": "markdown",
      "id": "eba8ed26",
      "metadata": {
        "papermill": {
          "duration": 0.0524,
          "end_time": "2022-08-24T10:01:13.357895",
          "exception": false,
          "start_time": "2022-08-24T10:01:13.305495",
          "status": "completed"
        },
        "tags": [],
        "id": "eba8ed26"
      },
      "source": [
        "##### Observations\n",
        "\n",
        "1. Coming to card category, the Total_Amt_Chng_Q4_Q1 is seems to having different range for different card category\n",
        "\n",
        "2. Coming to Gender category, male spend more than females [ Q4/Q1>0.5]"
      ]
    },
    {
      "cell_type": "code",
      "execution_count": null,
      "id": "19b23ded",
      "metadata": {
        "execution": {
          "iopub.execute_input": "2022-08-24T10:01:13.465029Z",
          "iopub.status.busy": "2022-08-24T10:01:13.464576Z",
          "iopub.status.idle": "2022-08-24T10:01:15.096219Z",
          "shell.execute_reply": "2022-08-24T10:01:15.094905Z"
        },
        "papermill": {
          "duration": 1.68797,
          "end_time": "2022-08-24T10:01:15.098622",
          "exception": false,
          "start_time": "2022-08-24T10:01:13.410652",
          "status": "completed"
        },
        "tags": [],
        "id": "19b23ded"
      },
      "outputs": [],
      "source": [
        "for col in cat_cols:\n",
        "    plt.figure(figsize=(12,8))\n",
        "    sb.boxplot(data=train_df,x=col,y=reqd_cols[2])\n",
        "    plt.title(f'Boxplot with {reqd_cols[2]} with {col} ')\n",
        "    plt.show()\n",
        "    print()\n",
        "    print()"
      ]
    },
    {
      "cell_type": "markdown",
      "id": "fc6bee15",
      "metadata": {
        "papermill": {
          "duration": 0.055935,
          "end_time": "2022-08-24T10:01:15.212713",
          "exception": false,
          "start_time": "2022-08-24T10:01:15.156778",
          "status": "completed"
        },
        "tags": [],
        "id": "fc6bee15"
      },
      "source": [
        "#### Observations\n",
        "1. Taking the Attrtion Flag, Existing customer spend more in range than attrited customer \n",
        "\n",
        "2. Coming to gender, females spend less than males, got this idea when looking at transactional count q4/q1"
      ]
    },
    {
      "cell_type": "code",
      "execution_count": null,
      "id": "894031ec",
      "metadata": {
        "execution": {
          "iopub.execute_input": "2022-08-24T10:01:15.326419Z",
          "iopub.status.busy": "2022-08-24T10:01:15.325429Z",
          "iopub.status.idle": "2022-08-24T10:01:16.726990Z",
          "shell.execute_reply": "2022-08-24T10:01:16.725738Z"
        },
        "papermill": {
          "duration": 1.461837,
          "end_time": "2022-08-24T10:01:16.729909",
          "exception": false,
          "start_time": "2022-08-24T10:01:15.268072",
          "status": "completed"
        },
        "tags": [],
        "id": "894031ec"
      },
      "outputs": [],
      "source": [
        "for col in cat_cols:\n",
        "    plt.figure(figsize=(12,8))\n",
        "    sb.boxplot(data=train_df,x=col,y=reqd_cols[3])\n",
        "    plt.title(f'Boxplot with {reqd_cols[3]} with {col} ')\n",
        "    plt.show()\n",
        "    print()\n",
        "    print()"
      ]
    },
    {
      "cell_type": "markdown",
      "id": "f2bf1396",
      "metadata": {
        "papermill": {
          "duration": 0.058997,
          "end_time": "2022-08-24T10:01:16.847509",
          "exception": false,
          "start_time": "2022-08-24T10:01:16.788512",
          "status": "completed"
        },
        "tags": [],
        "id": "f2bf1396"
      },
      "source": [
        "##### Observations\n",
        "\n",
        "1. Total Transaction count, women total transaction count range> men transaction count range\n",
        "\n",
        "2. Attrited customer has lower transactional count < existing customers\n",
        "\n",
        "3. Increasing category increases the medain increase in total transactional count."
      ]
    },
    {
      "cell_type": "code",
      "execution_count": null,
      "id": "90432a24",
      "metadata": {
        "execution": {
          "iopub.execute_input": "2022-08-24T10:01:16.968130Z",
          "iopub.status.busy": "2022-08-24T10:01:16.967723Z",
          "iopub.status.idle": "2022-08-24T10:01:18.598872Z",
          "shell.execute_reply": "2022-08-24T10:01:18.597424Z"
        },
        "papermill": {
          "duration": 1.694806,
          "end_time": "2022-08-24T10:01:18.601221",
          "exception": false,
          "start_time": "2022-08-24T10:01:16.906415",
          "status": "completed"
        },
        "tags": [],
        "id": "90432a24"
      },
      "outputs": [],
      "source": [
        "for col in cat_cols:\n",
        "    plt.figure(figsize=(12,8))\n",
        "    sb.boxplot(data=train_df,x=col,y=reqd_cols[4])\n",
        "    plt.title(f'Boxplot with {reqd_cols[4]} with {col} ')\n",
        "    plt.show()\n",
        "    print()\n",
        "    print()"
      ]
    },
    {
      "cell_type": "markdown",
      "id": "2812ef74",
      "metadata": {
        "papermill": {
          "duration": 0.062521,
          "end_time": "2022-08-24T10:01:18.726782",
          "exception": false,
          "start_time": "2022-08-24T10:01:18.664261",
          "status": "completed"
        },
        "tags": [],
        "id": "2812ef74"
      },
      "source": [
        "#### Observations\n",
        "\n",
        "1. Card Category,has higher range of most values when coming to blue credit card and less range for platinum/gold credit card\n",
        "\n",
        "2. Coming to attrition flag, existing customer transaction count ranges mostly b/w 0.3 and 1.25 while attrited customers, it ranges mostky b/w 0.45 and 0.75"
      ]
    },
    {
      "cell_type": "code",
      "execution_count": null,
      "id": "bccc2c67",
      "metadata": {
        "execution": {
          "iopub.execute_input": "2022-08-24T10:01:18.850290Z",
          "iopub.status.busy": "2022-08-24T10:01:18.849895Z",
          "iopub.status.idle": "2022-08-24T10:01:20.231772Z",
          "shell.execute_reply": "2022-08-24T10:01:20.230336Z"
        },
        "papermill": {
          "duration": 1.44678,
          "end_time": "2022-08-24T10:01:20.234178",
          "exception": false,
          "start_time": "2022-08-24T10:01:18.787398",
          "status": "completed"
        },
        "tags": [],
        "id": "bccc2c67"
      },
      "outputs": [],
      "source": [
        "for col in cat_cols:\n",
        "    plt.figure(figsize=(12,8))\n",
        "    sb.boxplot(data=train_df,x=col,y=reqd_cols[5])\n",
        "    plt.title(f'Boxplot with {reqd_cols[5]} with {col} ')\n",
        "    plt.show()\n",
        "    print()\n",
        "    print()"
      ]
    },
    {
      "cell_type": "markdown",
      "id": "a01e134a",
      "metadata": {
        "papermill": {
          "duration": 0.064266,
          "end_time": "2022-08-24T10:01:20.364025",
          "exception": false,
          "start_time": "2022-08-24T10:01:20.299759",
          "status": "completed"
        },
        "tags": [],
        "id": "a01e134a"
      },
      "source": [
        "#### Observations\n",
        "\n",
        "1. Females seems to have higher credit utlization ratio than males\n",
        "2. Card category also determines the credit utlization ratio\n",
        "\n",
        "3. Income category also determines the credit average utlization ratio"
      ]
    },
    {
      "cell_type": "code",
      "execution_count": null,
      "id": "4c655e3e",
      "metadata": {
        "execution": {
          "iopub.execute_input": "2022-08-24T10:01:20.497596Z",
          "iopub.status.busy": "2022-08-24T10:01:20.497176Z",
          "iopub.status.idle": "2022-08-24T10:01:22.151281Z",
          "shell.execute_reply": "2022-08-24T10:01:22.150250Z"
        },
        "papermill": {
          "duration": 1.724499,
          "end_time": "2022-08-24T10:01:22.154240",
          "exception": false,
          "start_time": "2022-08-24T10:01:20.429741",
          "status": "completed"
        },
        "tags": [],
        "id": "4c655e3e"
      },
      "outputs": [],
      "source": [
        "for col in cat_cols:\n",
        "    plt.figure(figsize=(12,8))\n",
        "    sb.boxplot(data=train_df,x=col,y=reqd_cols[6])\n",
        "    plt.title(f'Boxplot with {reqd_cols[6]} with {col} ')\n",
        "    plt.show()\n",
        "    print()\n",
        "    print()"
      ]
    },
    {
      "cell_type": "markdown",
      "id": "6166b2b9",
      "metadata": {
        "papermill": {
          "duration": 0.130455,
          "end_time": "2022-08-24T10:01:22.356313",
          "exception": false,
          "start_time": "2022-08-24T10:01:22.225858",
          "status": "completed"
        },
        "tags": [],
        "id": "6166b2b9"
      },
      "source": [
        "#### Observations\n",
        "\n",
        "1. Men tend to have higher credit than women\n",
        "\n",
        "2. Income category also affect credit limit"
      ]
    },
    {
      "cell_type": "code",
      "execution_count": null,
      "id": "80ff2a80",
      "metadata": {
        "execution": {
          "iopub.execute_input": "2022-08-24T10:01:22.496091Z",
          "iopub.status.busy": "2022-08-24T10:01:22.495243Z",
          "iopub.status.idle": "2022-08-24T10:01:22.758054Z",
          "shell.execute_reply": "2022-08-24T10:01:22.756821Z"
        },
        "papermill": {
          "duration": 0.338149,
          "end_time": "2022-08-24T10:01:22.762998",
          "exception": false,
          "start_time": "2022-08-24T10:01:22.424849",
          "status": "completed"
        },
        "tags": [],
        "id": "80ff2a80"
      },
      "outputs": [],
      "source": [
        "#### plotting a scatter plot on credit utlization ratio and total_trans_amt\n",
        "plt.figure(figsize=(12,8))\n",
        "sb.scatterplot(data=train_df,y='Avg_Utilization_Ratio',x='Total_Trans_Amt')"
      ]
    },
    {
      "cell_type": "markdown",
      "id": "da72ea1e",
      "metadata": {
        "papermill": {
          "duration": 0.071457,
          "end_time": "2022-08-24T10:01:22.907026",
          "exception": false,
          "start_time": "2022-08-24T10:01:22.835569",
          "status": "completed"
        },
        "tags": [],
        "id": "da72ea1e"
      },
      "source": [
        "#### Observations\n",
        "\n",
        "1. No relation observed b/w Total_Trans_Amt and Avg_Utilization_Ratio"
      ]
    },
    {
      "cell_type": "code",
      "execution_count": null,
      "id": "1d65b1db",
      "metadata": {
        "execution": {
          "iopub.execute_input": "2022-08-24T10:01:23.047716Z",
          "iopub.status.busy": "2022-08-24T10:01:23.046486Z",
          "iopub.status.idle": "2022-08-24T10:01:23.261482Z",
          "shell.execute_reply": "2022-08-24T10:01:23.260392Z"
        },
        "papermill": {
          "duration": 0.289578,
          "end_time": "2022-08-24T10:01:23.265341",
          "exception": false,
          "start_time": "2022-08-24T10:01:22.975763",
          "status": "completed"
        },
        "tags": [],
        "id": "1d65b1db"
      },
      "outputs": [],
      "source": [
        "#### plotting a scatter plot on credit utlization ratio and credit_limit\n",
        "plt.figure(figsize=(12,8))\n",
        "sb.scatterplot(data=train_df,y='Avg_Utilization_Ratio',x='Credit_Limit')\n",
        "plt.title('Plot between Average credit utilization and Credit Limit')"
      ]
    },
    {
      "cell_type": "markdown",
      "id": "bcaa8c50",
      "metadata": {
        "papermill": {
          "duration": 0.071285,
          "end_time": "2022-08-24T10:01:23.409506",
          "exception": false,
          "start_time": "2022-08-24T10:01:23.338221",
          "status": "completed"
        },
        "tags": [],
        "id": "bcaa8c50"
      },
      "source": [
        "#### Observations\n",
        "\n",
        "1. As credit limit increases, Average card utlization decreases\n"
      ]
    },
    {
      "cell_type": "code",
      "execution_count": null,
      "id": "1e5fd2f9",
      "metadata": {
        "execution": {
          "iopub.execute_input": "2022-08-24T10:01:23.554450Z",
          "iopub.status.busy": "2022-08-24T10:01:23.554058Z",
          "iopub.status.idle": "2022-08-24T10:01:23.814263Z",
          "shell.execute_reply": "2022-08-24T10:01:23.813027Z"
        },
        "papermill": {
          "duration": 0.337208,
          "end_time": "2022-08-24T10:01:23.818035",
          "exception": false,
          "start_time": "2022-08-24T10:01:23.480827",
          "status": "completed"
        },
        "tags": [],
        "id": "1e5fd2f9"
      },
      "outputs": [],
      "source": [
        "#plot between credit utlization and Total_Trans_Amt\n",
        "plt.figure(figsize=(12,8))\n",
        "sb.scatterplot(data=train_df,x='Total_Trans_Amt',y='Credit_Limit')\n",
        "plt.title('Plot between Total Transactional Amount and Credit Limit')"
      ]
    },
    {
      "cell_type": "markdown",
      "id": "efb17721",
      "metadata": {
        "papermill": {
          "duration": 0.073396,
          "end_time": "2022-08-24T10:01:23.966867",
          "exception": false,
          "start_time": "2022-08-24T10:01:23.893471",
          "status": "completed"
        },
        "tags": [],
        "id": "efb17721"
      },
      "source": [
        "#### Observations\n",
        "\n",
        "1. No relation found between credit limit and total transactional amount"
      ]
    },
    {
      "cell_type": "code",
      "execution_count": null,
      "id": "87dee559",
      "metadata": {
        "execution": {
          "iopub.execute_input": "2022-08-24T10:01:24.117939Z",
          "iopub.status.busy": "2022-08-24T10:01:24.116747Z",
          "iopub.status.idle": "2022-08-24T10:02:14.489604Z",
          "shell.execute_reply": "2022-08-24T10:02:14.488426Z"
        },
        "papermill": {
          "duration": 50.451995,
          "end_time": "2022-08-24T10:02:14.493921",
          "exception": false,
          "start_time": "2022-08-24T10:01:24.041926",
          "status": "completed"
        },
        "tags": [],
        "id": "87dee559"
      },
      "outputs": [],
      "source": [
        "### plot a scatter between continous variables\n",
        "#num_cols.remove('CLIENTNUM')\n",
        "for i in num_cols:\n",
        "    for j in num_cols:\n",
        "        if i!=j:\n",
        "            plt.figure(figsize=(12,8))\n",
        "            sb.scatterplot(data=train_df,x=i,y=j)\n",
        "            plt.title(f'Scatter plot between {i} and {j}')\n",
        "            plt.show()\n",
        "            print()\n",
        "            print()"
      ]
    },
    {
      "cell_type": "markdown",
      "id": "9a06b844",
      "metadata": {
        "papermill": {
          "duration": 0.383228,
          "end_time": "2022-08-24T10:02:15.285132",
          "exception": false,
          "start_time": "2022-08-24T10:02:14.901904",
          "status": "completed"
        },
        "tags": [],
        "id": "9a06b844"
      },
      "source": [
        "##### Observations\n",
        "\n",
        "1. average open to buy and credit limit are having +ve relation\n",
        "\n",
        "2. average open to buy and Total revolving balance has slight -ve relation\n",
        "\n",
        "3. Avg credit utlization increases as total revolving balance increases\n",
        "\n",
        "4. Average credit card utlization ratio and average open to buy has -ve relation\n",
        "\n",
        "5. Change in transactional amount and change in transactional count are related to each other [+ve relation]\n",
        "\n",
        "6. Total transactional count and total transaction amount has good +ve relation\n",
        "\n",
        " \n",
        "\n"
      ]
    },
    {
      "cell_type": "code",
      "execution_count": null,
      "id": "be3538a0",
      "metadata": {
        "execution": {
          "iopub.execute_input": "2022-08-24T10:02:16.026119Z",
          "iopub.status.busy": "2022-08-24T10:02:16.025296Z",
          "iopub.status.idle": "2022-08-24T10:02:17.368370Z",
          "shell.execute_reply": "2022-08-24T10:02:17.367207Z"
        },
        "papermill": {
          "duration": 1.714058,
          "end_time": "2022-08-24T10:02:17.372254",
          "exception": false,
          "start_time": "2022-08-24T10:02:15.658196",
          "status": "completed"
        },
        "tags": [],
        "id": "be3538a0"
      },
      "outputs": [],
      "source": [
        "#### drawing a correlation matrix\n",
        "\n",
        "plt.figure(figsize=(15,10))\n",
        "sb.heatmap(train_df[num_cols].corr(),annot=True)\n",
        "plt.title('Heatmap for the numerical features in train data')\n",
        "plt.show()"
      ]
    },
    {
      "cell_type": "code",
      "execution_count": null,
      "id": "c7a066fa",
      "metadata": {
        "execution": {
          "iopub.execute_input": "2022-08-24T10:02:18.130355Z",
          "iopub.status.busy": "2022-08-24T10:02:18.129060Z",
          "iopub.status.idle": "2022-08-24T10:02:59.308167Z",
          "shell.execute_reply": "2022-08-24T10:02:59.307090Z"
        },
        "papermill": {
          "duration": 41.546774,
          "end_time": "2022-08-24T10:02:59.310846",
          "exception": false,
          "start_time": "2022-08-24T10:02:17.764072",
          "status": "completed"
        },
        "tags": [],
        "id": "c7a066fa"
      },
      "outputs": [],
      "source": [
        "for i in num_cols:\n",
        "    for col in cat_cols:\n",
        "        fig,ax=plt.subplots(1,2)\n",
        "        fig.set_figheight(8)\n",
        "        fig.set_figwidth(20)\n",
        "        fig.suptitle(f'Boxplot and violin plot for {i} with respect to {col}')\n",
        "        #ax[0].set_title(f'Violinplot for {i} with respect to {col}')\n",
        "        sb.violinplot(data=train_df,x=col,y=i,ax=ax[0])\n",
        "        #ax[1].set_title(f'Boxplot for {i} with respect to {col}')\n",
        "        sb.boxplot(data=train_df,x=col,y=i,ax=ax[1])\n",
        "        plt.show()\n",
        "        print()\n",
        "        print()"
      ]
    },
    {
      "cell_type": "code",
      "execution_count": null,
      "id": "d5840568",
      "metadata": {
        "execution": {
          "iopub.execute_input": "2022-08-24T10:03:00.284006Z",
          "iopub.status.busy": "2022-08-24T10:03:00.282896Z",
          "iopub.status.idle": "2022-08-24T10:03:00.309741Z",
          "shell.execute_reply": "2022-08-24T10:03:00.308515Z"
        },
        "papermill": {
          "duration": 0.510749,
          "end_time": "2022-08-24T10:03:00.312259",
          "exception": false,
          "start_time": "2022-08-24T10:02:59.801510",
          "status": "completed"
        },
        "tags": [],
        "id": "d5840568"
      },
      "outputs": [],
      "source": [
        "train_df.head()"
      ]
    },
    {
      "cell_type": "markdown",
      "id": "620d2051",
      "metadata": {
        "papermill": {
          "duration": 0.492941,
          "end_time": "2022-08-24T10:03:01.265121",
          "exception": false,
          "start_time": "2022-08-24T10:03:00.772180",
          "status": "completed"
        },
        "tags": [],
        "id": "620d2051"
      },
      "source": [
        "#### Observations\n",
        "\n",
        "1. Less Income people tend to use the credit card more than higher income category [ except the unknown category]"
      ]
    },
    {
      "cell_type": "markdown",
      "id": "c9ffccc8",
      "metadata": {
        "papermill": {
          "duration": 0.467094,
          "end_time": "2022-08-24T10:03:02.198761",
          "exception": false,
          "start_time": "2022-08-24T10:03:01.731667",
          "status": "completed"
        },
        "tags": [],
        "id": "c9ffccc8"
      },
      "source": [
        "#### Attrited Customer EDA [ from train_df]"
      ]
    },
    {
      "cell_type": "code",
      "execution_count": null,
      "id": "1484df76",
      "metadata": {
        "execution": {
          "iopub.execute_input": "2022-08-24T10:03:03.134007Z",
          "iopub.status.busy": "2022-08-24T10:03:03.133410Z",
          "iopub.status.idle": "2022-08-24T10:03:03.398825Z",
          "shell.execute_reply": "2022-08-24T10:03:03.397623Z"
        },
        "papermill": {
          "duration": 0.734342,
          "end_time": "2022-08-24T10:03:03.401333",
          "exception": false,
          "start_time": "2022-08-24T10:03:02.666991",
          "status": "completed"
        },
        "tags": [],
        "id": "1484df76"
      },
      "outputs": [],
      "source": [
        ",#### plotting the distribution of dataset of attrited customers\n",
        "### creating attrited_df for storing attrition dataset customers\n",
        "attrited_df= train_df[train_df['Attrition_Flag']=='Attrited Customer']\n",
        "plt.figure(figsize=(12,8))\n",
        "sb.histplot(attrited_df['Customer_Age'],kde=True,stat='probability')\n",
        "plt.title('Distribution of Age of customer for attrited data')\n",
        "plt.show()"
      ]
    },
    {
      "cell_type": "markdown",
      "id": "9e7c99d5",
      "metadata": {
        "papermill": {
          "duration": 0.464341,
          "end_time": "2022-08-24T10:03:04.329974",
          "exception": false,
          "start_time": "2022-08-24T10:03:03.865633",
          "status": "completed"
        },
        "tags": [],
        "id": "9e7c99d5"
      },
      "source": [
        "##### For Attried customers, \n",
        "\n",
        "1. it could be seen that mostly people between 40 & 50 are seen [High Probability]\n",
        "\n",
        "2. There are less count/less chances of younger age people for the attrtrion [<35]\n",
        "\n",
        "3. Age group of >55 are having little less chances of getting attrited \n",
        "\n"
      ]
    },
    {
      "cell_type": "code",
      "execution_count": null,
      "id": "62197327",
      "metadata": {
        "execution": {
          "iopub.execute_input": "2022-08-24T10:03:05.611828Z",
          "iopub.status.busy": "2022-08-24T10:03:05.611410Z",
          "iopub.status.idle": "2022-08-24T10:03:05.803501Z",
          "shell.execute_reply": "2022-08-24T10:03:05.802245Z"
        },
        "papermill": {
          "duration": 1.012214,
          "end_time": "2022-08-24T10:03:05.805995",
          "exception": false,
          "start_time": "2022-08-24T10:03:04.793781",
          "status": "completed"
        },
        "tags": [],
        "id": "62197327"
      },
      "outputs": [],
      "source": [
        "#### Counting how mauch are females and males in attrtion dataset\n",
        "plt.figure(figsize=(12,8))\n",
        "sb.countplot(data=train_df,x='Gender')\n",
        "plt.title('Plot of count of genders for the Attrited data')\n",
        "plt.show()"
      ]
    },
    {
      "cell_type": "markdown",
      "id": "b35a3ba6",
      "metadata": {
        "papermill": {
          "duration": 0.466648,
          "end_time": "2022-08-24T10:03:06.738273",
          "exception": false,
          "start_time": "2022-08-24T10:03:06.271625",
          "status": "completed"
        },
        "tags": [],
        "id": "b35a3ba6"
      },
      "source": [
        "##### Observations\n",
        "\n",
        "1. From the above graph, i could see that Females are more in count in data than males."
      ]
    },
    {
      "cell_type": "code",
      "execution_count": null,
      "id": "7c0f1a86",
      "metadata": {
        "execution": {
          "iopub.execute_input": "2022-08-24T10:03:07.724345Z",
          "iopub.status.busy": "2022-08-24T10:03:07.723329Z",
          "iopub.status.idle": "2022-08-24T10:03:08.187228Z",
          "shell.execute_reply": "2022-08-24T10:03:08.185661Z"
        },
        "papermill": {
          "duration": 0.93351,
          "end_time": "2022-08-24T10:03:08.189880",
          "exception": false,
          "start_time": "2022-08-24T10:03:07.256370",
          "status": "completed"
        },
        "tags": [],
        "id": "7c0f1a86"
      },
      "outputs": [],
      "source": [
        "for i in ['M','F']:\n",
        "    temp= attrited_df[attrited_df['Gender']==i]\n",
        "    plt.figure(figsize=(12,8))\n",
        "    sb.histplot(temp['Customer_Age'],kde=True)\n",
        "    plt.title(f'Customer Age distribution for {i} Gender')\n",
        "    plt.show()"
      ]
    },
    {
      "cell_type": "markdown",
      "id": "1314be18",
      "metadata": {
        "papermill": {
          "duration": 0.469056,
          "end_time": "2022-08-24T10:03:09.150220",
          "exception": false,
          "start_time": "2022-08-24T10:03:08.681164",
          "status": "completed"
        },
        "tags": [],
        "id": "1314be18"
      },
      "source": [
        "#### Observations\n",
        "\n",
        "1. Both gender has max probability at 40 - 50 age "
      ]
    },
    {
      "cell_type": "code",
      "execution_count": null,
      "id": "9d23d2d0",
      "metadata": {
        "execution": {
          "iopub.execute_input": "2022-08-24T10:03:10.088003Z",
          "iopub.status.busy": "2022-08-24T10:03:10.087596Z",
          "iopub.status.idle": "2022-08-24T10:03:10.229967Z",
          "shell.execute_reply": "2022-08-24T10:03:10.228830Z"
        },
        "papermill": {
          "duration": 0.614215,
          "end_time": "2022-08-24T10:03:10.233083",
          "exception": false,
          "start_time": "2022-08-24T10:03:09.618868",
          "status": "completed"
        },
        "tags": [],
        "id": "9d23d2d0"
      },
      "outputs": [],
      "source": [
        "#### Plotting the data b/w Martial Status \n",
        "plt.figure(figsize=(12,8))\n",
        "sb.countplot(data=attrited_df,x='Marital_Status')\n",
        "plt.show()"
      ]
    },
    {
      "cell_type": "code",
      "execution_count": null,
      "id": "22285707",
      "metadata": {
        "execution": {
          "iopub.execute_input": "2022-08-24T10:03:11.171983Z",
          "iopub.status.busy": "2022-08-24T10:03:11.171054Z",
          "iopub.status.idle": "2022-08-24T10:03:11.201945Z",
          "shell.execute_reply": "2022-08-24T10:03:11.200931Z"
        },
        "papermill": {
          "duration": 0.502132,
          "end_time": "2022-08-24T10:03:11.204454",
          "exception": false,
          "start_time": "2022-08-24T10:03:10.702322",
          "status": "completed"
        },
        "tags": [],
        "id": "22285707"
      },
      "outputs": [],
      "source": [
        "attrited_df.head()"
      ]
    },
    {
      "cell_type": "code",
      "execution_count": null,
      "id": "8baffa9e",
      "metadata": {
        "execution": {
          "iopub.execute_input": "2022-08-24T10:03:12.169417Z",
          "iopub.status.busy": "2022-08-24T10:03:12.168858Z",
          "iopub.status.idle": "2022-08-24T10:03:12.399996Z",
          "shell.execute_reply": "2022-08-24T10:03:12.398987Z"
        },
        "papermill": {
          "duration": 0.730091,
          "end_time": "2022-08-24T10:03:12.402433",
          "exception": false,
          "start_time": "2022-08-24T10:03:11.672342",
          "status": "completed"
        },
        "tags": [],
        "id": "8baffa9e"
      },
      "outputs": [],
      "source": [
        "plt.figure(figsize=(12,8))\n",
        "sb.countplot(data=attrited_df,x='Income_Category')\n",
        "plt.title('Countplot for Income category for attrited class')\n",
        "plt.show()"
      ]
    },
    {
      "cell_type": "markdown",
      "id": "af357116",
      "metadata": {
        "papermill": {
          "duration": 0.464923,
          "end_time": "2022-08-24T10:03:13.333911",
          "exception": false,
          "start_time": "2022-08-24T10:03:12.868988",
          "status": "completed"
        },
        "tags": [],
        "id": "af357116"
      },
      "source": [
        "#### Observations\n",
        "\n",
        "1. From viewpoint of train dataset, Income category for income< $40K are getting attrtited more"
      ]
    },
    {
      "cell_type": "code",
      "execution_count": null,
      "id": "6208aedb",
      "metadata": {
        "execution": {
          "iopub.execute_input": "2022-08-24T10:03:14.273405Z",
          "iopub.status.busy": "2022-08-24T10:03:14.272291Z",
          "iopub.status.idle": "2022-08-24T10:03:14.768575Z",
          "shell.execute_reply": "2022-08-24T10:03:14.767484Z"
        },
        "papermill": {
          "duration": 0.967953,
          "end_time": "2022-08-24T10:03:14.771175",
          "exception": false,
          "start_time": "2022-08-24T10:03:13.803222",
          "status": "completed"
        },
        "tags": [],
        "id": "6208aedb"
      },
      "outputs": [],
      "source": [
        "#### showing the revolving balance for each card category \n",
        "plt.figure(figsize=(12,8))\n",
        "sb.barplot(data=train_df,x='Income_Category',y='Total_Revolving_Bal')\n",
        "plt.title('Barplot for total revolving balance w.r.t Income category')\n",
        "plt.show()"
      ]
    },
    {
      "cell_type": "markdown",
      "id": "ab173d6e",
      "metadata": {
        "papermill": {
          "duration": 0.813982,
          "end_time": "2022-08-24T10:03:16.058869",
          "exception": false,
          "start_time": "2022-08-24T10:03:15.244887",
          "status": "completed"
        },
        "tags": [],
        "id": "ab173d6e"
      },
      "source": [
        "##### The revolving balance seems to be almost same for all income category"
      ]
    },
    {
      "cell_type": "code",
      "execution_count": null,
      "id": "48823192",
      "metadata": {
        "execution": {
          "iopub.execute_input": "2022-08-24T10:03:16.996139Z",
          "iopub.status.busy": "2022-08-24T10:03:16.995209Z",
          "iopub.status.idle": "2022-08-24T10:03:17.664289Z",
          "shell.execute_reply": "2022-08-24T10:03:17.662610Z"
        },
        "papermill": {
          "duration": 1.136669,
          "end_time": "2022-08-24T10:03:17.667222",
          "exception": false,
          "start_time": "2022-08-24T10:03:16.530553",
          "status": "completed"
        },
        "tags": [],
        "id": "48823192"
      },
      "outputs": [],
      "source": [
        "plt.figure(figsize=(12,8))\n",
        "sb.barplot(data=train_df,x='Income_Category',y='Credit_Limit')\n",
        "plt.title('Barplot for credit limit w.r.t Income category')\n",
        "plt.show()"
      ]
    },
    {
      "cell_type": "markdown",
      "id": "933e3c26",
      "metadata": {
        "papermill": {
          "duration": 0.464894,
          "end_time": "2022-08-24T10:03:18.599489",
          "exception": false,
          "start_time": "2022-08-24T10:03:18.134595",
          "status": "completed"
        },
        "tags": [],
        "id": "933e3c26"
      },
      "source": [
        "#### Observations \n",
        "\n",
        "1. The credit limit seems to be low for <$40 K salary"
      ]
    },
    {
      "cell_type": "code",
      "execution_count": null,
      "id": "912fd39f",
      "metadata": {
        "execution": {
          "iopub.execute_input": "2022-08-24T10:03:19.536291Z",
          "iopub.status.busy": "2022-08-24T10:03:19.535740Z",
          "iopub.status.idle": "2022-08-24T10:03:20.026496Z",
          "shell.execute_reply": "2022-08-24T10:03:20.025394Z"
        },
        "papermill": {
          "duration": 0.960786,
          "end_time": "2022-08-24T10:03:20.029489",
          "exception": false,
          "start_time": "2022-08-24T10:03:19.068703",
          "status": "completed"
        },
        "tags": [],
        "id": "912fd39f"
      },
      "outputs": [],
      "source": [
        "plt.figure(figsize=(12,8))\n",
        "sb.barplot(data=train_df,x='Income_Category',y='Avg_Utilization_Ratio')\n",
        "plt.title('Barplot for Avg_Utilization_Ratio w.r.t Income category')\n",
        "plt.show()"
      ]
    },
    {
      "cell_type": "markdown",
      "id": "543a36aa",
      "metadata": {
        "papermill": {
          "duration": 0.702113,
          "end_time": "2022-08-24T10:03:21.221099",
          "exception": false,
          "start_time": "2022-08-24T10:03:20.518986",
          "status": "completed"
        },
        "tags": [],
        "id": "543a36aa"
      },
      "source": [
        "##### Observations\n",
        "\n",
        "1. Card utlization is found higher under less<40K salary income people"
      ]
    },
    {
      "cell_type": "code",
      "execution_count": null,
      "id": "baef478b",
      "metadata": {
        "execution": {
          "iopub.execute_input": "2022-08-24T10:03:22.217414Z",
          "iopub.status.busy": "2022-08-24T10:03:22.216851Z",
          "iopub.status.idle": "2022-08-24T10:03:22.408671Z",
          "shell.execute_reply": "2022-08-24T10:03:22.407872Z"
        },
        "papermill": {
          "duration": 0.664102,
          "end_time": "2022-08-24T10:03:22.410974",
          "exception": false,
          "start_time": "2022-08-24T10:03:21.746872",
          "status": "completed"
        },
        "tags": [],
        "id": "baef478b"
      },
      "outputs": [],
      "source": [
        "plt.figure(figsize=(12,8))\n",
        "sb.countplot(data=train_df,x='Card_Category')\n",
        "plt.title('Countplot for card_category')\n",
        "plt.show()"
      ]
    },
    {
      "cell_type": "code",
      "execution_count": null,
      "id": "28efca44",
      "metadata": {
        "execution": {
          "iopub.execute_input": "2022-08-24T10:03:23.373046Z",
          "iopub.status.busy": "2022-08-24T10:03:23.371644Z",
          "iopub.status.idle": "2022-08-24T10:03:23.773516Z",
          "shell.execute_reply": "2022-08-24T10:03:23.772231Z"
        },
        "papermill": {
          "duration": 0.89547,
          "end_time": "2022-08-24T10:03:23.776113",
          "exception": false,
          "start_time": "2022-08-24T10:03:22.880643",
          "status": "completed"
        },
        "tags": [],
        "id": "28efca44"
      },
      "outputs": [],
      "source": [
        "plt.figure(figsize=(12,8))\n",
        "sb.barplot(data=train_df,x='Card_Category',y='Total_Revolving_Bal')\n",
        "plt.title('Barplot for total revolving balance w.r.t card category')\n",
        "plt.show()"
      ]
    },
    {
      "cell_type": "code",
      "execution_count": null,
      "id": "6abf9929",
      "metadata": {
        "execution": {
          "iopub.execute_input": "2022-08-24T10:03:24.722723Z",
          "iopub.status.busy": "2022-08-24T10:03:24.721833Z",
          "iopub.status.idle": "2022-08-24T10:03:25.104414Z",
          "shell.execute_reply": "2022-08-24T10:03:25.103211Z"
        },
        "papermill": {
          "duration": 0.859451,
          "end_time": "2022-08-24T10:03:25.107168",
          "exception": false,
          "start_time": "2022-08-24T10:03:24.247717",
          "status": "completed"
        },
        "tags": [],
        "id": "6abf9929"
      },
      "outputs": [],
      "source": [
        "plt.figure(figsize=(12,8))\n",
        "sb.barplot(data=train_df,x='Card_Category',y='Credit_Limit')\n",
        "plt.title('Barplot for credit_limit w.r.t card category')\n",
        "plt.show()"
      ]
    },
    {
      "cell_type": "code",
      "execution_count": null,
      "id": "f1368180",
      "metadata": {
        "execution": {
          "iopub.execute_input": "2022-08-24T10:03:26.287858Z",
          "iopub.status.busy": "2022-08-24T10:03:26.287438Z",
          "iopub.status.idle": "2022-08-24T10:03:26.613971Z",
          "shell.execute_reply": "2022-08-24T10:03:26.612694Z"
        },
        "papermill": {
          "duration": 1.03883,
          "end_time": "2022-08-24T10:03:26.616602",
          "exception": false,
          "start_time": "2022-08-24T10:03:25.577772",
          "status": "completed"
        },
        "tags": [],
        "id": "f1368180"
      },
      "outputs": [],
      "source": [
        "plt.figure(figsize=(12,8))\n",
        "sb.countplot(data=train_df,x='Card_Category',hue='Income_Category')\n",
        "plt.title('Countplot for card_category')\n",
        "plt.show()"
      ]
    },
    {
      "cell_type": "code",
      "execution_count": null,
      "id": "552bb097",
      "metadata": {
        "execution": {
          "iopub.execute_input": "2022-08-24T10:03:27.560387Z",
          "iopub.status.busy": "2022-08-24T10:03:27.559576Z",
          "iopub.status.idle": "2022-08-24T10:03:27.936412Z",
          "shell.execute_reply": "2022-08-24T10:03:27.935125Z"
        },
        "papermill": {
          "duration": 0.849121,
          "end_time": "2022-08-24T10:03:27.939060",
          "exception": false,
          "start_time": "2022-08-24T10:03:27.089939",
          "status": "completed"
        },
        "tags": [],
        "id": "552bb097"
      },
      "outputs": [],
      "source": [
        "plt.figure(figsize=(12,8))\n",
        "sb.barplot(data=train_df,x='Card_Category',y='Avg_Utilization_Ratio')\n",
        "plt.title('Barplot for Avg_Utilization_Ratio w.r.t card category')\n",
        "plt.show()"
      ]
    },
    {
      "cell_type": "code",
      "execution_count": null,
      "id": "090b169c",
      "metadata": {
        "execution": {
          "iopub.execute_input": "2022-08-24T10:03:28.916550Z",
          "iopub.status.busy": "2022-08-24T10:03:28.915751Z",
          "iopub.status.idle": "2022-08-24T10:03:28.942345Z",
          "shell.execute_reply": "2022-08-24T10:03:28.941205Z"
        },
        "papermill": {
          "duration": 0.500621,
          "end_time": "2022-08-24T10:03:28.944721",
          "exception": false,
          "start_time": "2022-08-24T10:03:28.444100",
          "status": "completed"
        },
        "tags": [],
        "id": "090b169c"
      },
      "outputs": [],
      "source": [
        "attrited_df.head()"
      ]
    },
    {
      "cell_type": "code",
      "execution_count": null,
      "id": "98e9d718",
      "metadata": {
        "execution": {
          "iopub.execute_input": "2022-08-24T10:03:29.909405Z",
          "iopub.status.busy": "2022-08-24T10:03:29.908242Z",
          "iopub.status.idle": "2022-08-24T10:03:33.856902Z",
          "shell.execute_reply": "2022-08-24T10:03:33.855737Z"
        },
        "papermill": {
          "duration": 4.438072,
          "end_time": "2022-08-24T10:03:33.859250",
          "exception": false,
          "start_time": "2022-08-24T10:03:29.421178",
          "status": "completed"
        },
        "tags": [],
        "id": "98e9d718"
      },
      "outputs": [],
      "source": [
        "num_cols.remove('CLIENTNUM')\n",
        "for i in num_cols:\n",
        "    plt.figure(figsize=(12,8))\n",
        "    sb.histplot(attrited_df[i],stat='probability',kde=True)\n",
        "    plt.title(f'Probability distribution on {i}')\n",
        "    plt.show()\n",
        "    \n",
        "\n"
      ]
    },
    {
      "cell_type": "markdown",
      "id": "dfa376e7",
      "metadata": {
        "papermill": {
          "duration": 0.499675,
          "end_time": "2022-08-24T10:03:34.905824",
          "exception": false,
          "start_time": "2022-08-24T10:03:34.406149",
          "status": "completed"
        },
        "tags": [],
        "id": "dfa376e7"
      },
      "source": [
        "### Feature Engineering "
      ]
    },
    {
      "cell_type": "code",
      "execution_count": null,
      "id": "78d374ad",
      "metadata": {
        "execution": {
          "iopub.execute_input": "2022-08-24T10:03:35.892426Z",
          "iopub.status.busy": "2022-08-24T10:03:35.891451Z",
          "iopub.status.idle": "2022-08-24T10:03:35.920499Z",
          "shell.execute_reply": "2022-08-24T10:03:35.919156Z"
        },
        "papermill": {
          "duration": 0.523743,
          "end_time": "2022-08-24T10:03:35.923234",
          "exception": false,
          "start_time": "2022-08-24T10:03:35.399491",
          "status": "completed"
        },
        "tags": [],
        "id": "78d374ad"
      },
      "outputs": [],
      "source": [
        "train_df.head()"
      ]
    },
    {
      "cell_type": "code",
      "execution_count": null,
      "id": "34e4e4a8",
      "metadata": {
        "execution": {
          "iopub.execute_input": "2022-08-24T10:03:36.895159Z",
          "iopub.status.busy": "2022-08-24T10:03:36.894771Z",
          "iopub.status.idle": "2022-08-24T10:03:36.902000Z",
          "shell.execute_reply": "2022-08-24T10:03:36.900861Z"
        },
        "papermill": {
          "duration": 0.496404,
          "end_time": "2022-08-24T10:03:36.904353",
          "exception": false,
          "start_time": "2022-08-24T10:03:36.407949",
          "status": "completed"
        },
        "tags": [],
        "id": "34e4e4a8"
      },
      "outputs": [],
      "source": [
        "train_df.columns "
      ]
    },
    {
      "cell_type": "code",
      "execution_count": null,
      "id": "4e8f0a5b",
      "metadata": {
        "execution": {
          "iopub.execute_input": "2022-08-24T10:03:37.882726Z",
          "iopub.status.busy": "2022-08-24T10:03:37.881840Z",
          "iopub.status.idle": "2022-08-24T10:03:37.889282Z",
          "shell.execute_reply": "2022-08-24T10:03:37.888024Z"
        },
        "papermill": {
          "duration": 0.499122,
          "end_time": "2022-08-24T10:03:37.891640",
          "exception": false,
          "start_time": "2022-08-24T10:03:37.392518",
          "status": "completed"
        },
        "tags": [],
        "id": "4e8f0a5b"
      },
      "outputs": [],
      "source": [
        "X= train_df.drop(['CLIENTNUM','Attrition_Flag'],axis=1)\n",
        "y= train_df['Attrition_Flag']"
      ]
    },
    {
      "cell_type": "code",
      "execution_count": null,
      "id": "9b9c3294",
      "metadata": {
        "execution": {
          "iopub.execute_input": "2022-08-24T10:03:38.873365Z",
          "iopub.status.busy": "2022-08-24T10:03:38.872551Z",
          "iopub.status.idle": "2022-08-24T10:03:38.888995Z",
          "shell.execute_reply": "2022-08-24T10:03:38.887718Z"
        },
        "papermill": {
          "duration": 0.510564,
          "end_time": "2022-08-24T10:03:38.891427",
          "exception": false,
          "start_time": "2022-08-24T10:03:38.380863",
          "status": "completed"
        },
        "tags": [],
        "id": "9b9c3294"
      },
      "outputs": [],
      "source": [
        "X.info()"
      ]
    },
    {
      "cell_type": "code",
      "execution_count": null,
      "id": "0103da3d",
      "metadata": {
        "execution": {
          "iopub.execute_input": "2022-08-24T10:03:40.151439Z",
          "iopub.status.busy": "2022-08-24T10:03:40.150640Z",
          "iopub.status.idle": "2022-08-24T10:03:40.201297Z",
          "shell.execute_reply": "2022-08-24T10:03:40.200112Z"
        },
        "papermill": {
          "duration": 0.767561,
          "end_time": "2022-08-24T10:03:40.203654",
          "exception": false,
          "start_time": "2022-08-24T10:03:39.436093",
          "status": "completed"
        },
        "tags": [],
        "id": "0103da3d"
      },
      "outputs": [],
      "source": [
        "####convert it into one hot encoding data for logistics regession or knn \n",
        "X_1= X.copy()\n",
        "\n",
        "for i in ['Gender', 'Education_Level','Marital_Status','Income_Category','Card_Category']:\n",
        "    tempdf= pd.get_dummies(X_1[i],drop_first=True,prefix=i)\n",
        "    X_1= pd.concat([X_1,tempdf],axis=1)\n",
        "    X_1.drop(i,axis=1,inplace=True)\n",
        "    \n",
        "X_1.head()"
      ]
    },
    {
      "cell_type": "code",
      "execution_count": null,
      "id": "9ae8c98b",
      "metadata": {
        "execution": {
          "iopub.execute_input": "2022-08-24T10:03:41.190067Z",
          "iopub.status.busy": "2022-08-24T10:03:41.189602Z",
          "iopub.status.idle": "2022-08-24T10:03:41.289555Z",
          "shell.execute_reply": "2022-08-24T10:03:41.288390Z"
        },
        "papermill": {
          "duration": 0.599047,
          "end_time": "2022-08-24T10:03:41.292495",
          "exception": false,
          "start_time": "2022-08-24T10:03:40.693448",
          "status": "completed"
        },
        "tags": [],
        "id": "9ae8c98b"
      },
      "outputs": [],
      "source": [
        "X_1.describe()"
      ]
    },
    {
      "cell_type": "code",
      "execution_count": null,
      "id": "64ab5998",
      "metadata": {
        "execution": {
          "iopub.execute_input": "2022-08-24T10:03:42.278173Z",
          "iopub.status.busy": "2022-08-24T10:03:42.277770Z",
          "iopub.status.idle": "2022-08-24T10:03:42.319065Z",
          "shell.execute_reply": "2022-08-24T10:03:42.317936Z"
        },
        "papermill": {
          "duration": 0.538481,
          "end_time": "2022-08-24T10:03:42.321527",
          "exception": false,
          "start_time": "2022-08-24T10:03:41.783046",
          "status": "completed"
        },
        "tags": [],
        "id": "64ab5998"
      },
      "outputs": [],
      "source": [
        "#### scaling the dataset\n",
        "from sklearn.preprocessing import StandardScaler\n",
        "X_2= X_1.copy()\n",
        "sc_scale= StandardScaler()\n",
        "X_2[num_cols]= sc_scale.fit_transform(X_2[num_cols])\n",
        "X_2"
      ]
    },
    {
      "cell_type": "code",
      "execution_count": null,
      "id": "897dbb8c",
      "metadata": {
        "execution": {
          "iopub.execute_input": "2022-08-24T10:03:43.318123Z",
          "iopub.status.busy": "2022-08-24T10:03:43.317574Z",
          "iopub.status.idle": "2022-08-24T10:03:43.456164Z",
          "shell.execute_reply": "2022-08-24T10:03:43.454973Z"
        },
        "papermill": {
          "duration": 0.647038,
          "end_time": "2022-08-24T10:03:43.459114",
          "exception": false,
          "start_time": "2022-08-24T10:03:42.812076",
          "status": "completed"
        },
        "tags": [],
        "id": "897dbb8c"
      },
      "outputs": [],
      "source": [
        "from statsmodels.stats.outliers_influence import variance_inflation_factor\n",
        "def vif_df(X_1):\n",
        "    vif= pd.DataFrame()\n",
        "    vif['Feature']= X_1.columns\n",
        "    vif['VIF Factor']= [variance_inflation_factor(X_1.values,i) for i in range(X_1.shape[1])]\n",
        "    return vif"
      ]
    },
    {
      "cell_type": "code",
      "execution_count": null,
      "id": "87a562a1",
      "metadata": {
        "execution": {
          "iopub.execute_input": "2022-08-24T10:03:44.457640Z",
          "iopub.status.busy": "2022-08-24T10:03:44.456885Z",
          "iopub.status.idle": "2022-08-24T10:03:44.606121Z",
          "shell.execute_reply": "2022-08-24T10:03:44.604839Z"
        },
        "papermill": {
          "duration": 0.652425,
          "end_time": "2022-08-24T10:03:44.609383",
          "exception": false,
          "start_time": "2022-08-24T10:03:43.956958",
          "status": "completed"
        },
        "tags": [],
        "id": "87a562a1"
      },
      "outputs": [],
      "source": [
        "vif=vif_df(X_2[num_cols])\n",
        "vif"
      ]
    },
    {
      "cell_type": "markdown",
      "id": "c11066f1",
      "metadata": {
        "papermill": {
          "duration": 0.491873,
          "end_time": "2022-08-24T10:03:45.790191",
          "exception": false,
          "start_time": "2022-08-24T10:03:45.298318",
          "status": "completed"
        },
        "tags": [],
        "id": "c11066f1"
      },
      "source": [
        "#### Observations,\n",
        "\n",
        "1. Credit_Limit,Total_Revolving_Bal,Avg_Open_To_Buy are having VIF of infinity, means high multicolinearity, so better to drop them off\n",
        "\n"
      ]
    },
    {
      "cell_type": "code",
      "execution_count": null,
      "id": "b04ff1d3",
      "metadata": {
        "execution": {
          "iopub.execute_input": "2022-08-24T10:03:46.775770Z",
          "iopub.status.busy": "2022-08-24T10:03:46.775376Z",
          "iopub.status.idle": "2022-08-24T10:03:46.780174Z",
          "shell.execute_reply": "2022-08-24T10:03:46.779083Z"
        },
        "papermill": {
          "duration": 0.501186,
          "end_time": "2022-08-24T10:03:46.783443",
          "exception": false,
          "start_time": "2022-08-24T10:03:46.282257",
          "status": "completed"
        },
        "tags": [],
        "id": "b04ff1d3"
      },
      "outputs": [],
      "source": [
        "vif_cols=['Credit_Limit','Total_Revolving_Bal','Avg_Open_To_Buy']"
      ]
    },
    {
      "cell_type": "code",
      "execution_count": null,
      "id": "19330239",
      "metadata": {
        "execution": {
          "iopub.execute_input": "2022-08-24T10:03:47.769615Z",
          "iopub.status.busy": "2022-08-24T10:03:47.768482Z",
          "iopub.status.idle": "2022-08-24T10:03:47.778273Z",
          "shell.execute_reply": "2022-08-24T10:03:47.776607Z"
        },
        "papermill": {
          "duration": 0.504629,
          "end_time": "2022-08-24T10:03:47.781206",
          "exception": false,
          "start_time": "2022-08-24T10:03:47.276577",
          "status": "completed"
        },
        "tags": [],
        "id": "19330239"
      },
      "outputs": [],
      "source": [
        "target_dict= {'Existing Customer':1,'Attrited Customer':0}\n",
        "y= y.map(target_dict)"
      ]
    },
    {
      "cell_type": "code",
      "execution_count": null,
      "id": "0294cec4",
      "metadata": {
        "execution": {
          "iopub.execute_input": "2022-08-24T10:03:48.765557Z",
          "iopub.status.busy": "2022-08-24T10:03:48.764785Z",
          "iopub.status.idle": "2022-08-24T10:03:48.771243Z",
          "shell.execute_reply": "2022-08-24T10:03:48.770247Z"
        },
        "papermill": {
          "duration": 0.499123,
          "end_time": "2022-08-24T10:03:48.773767",
          "exception": false,
          "start_time": "2022-08-24T10:03:48.274644",
          "status": "completed"
        },
        "tags": [],
        "id": "0294cec4"
      },
      "outputs": [],
      "source": [
        "X_2.drop(vif_cols,axis=1,inplace=True)"
      ]
    },
    {
      "cell_type": "code",
      "execution_count": null,
      "id": "9429b947",
      "metadata": {
        "execution": {
          "iopub.execute_input": "2022-08-24T10:03:49.755623Z",
          "iopub.status.busy": "2022-08-24T10:03:49.754858Z",
          "iopub.status.idle": "2022-08-24T10:03:49.759798Z",
          "shell.execute_reply": "2022-08-24T10:03:49.758968Z"
        },
        "papermill": {
          "duration": 0.496684,
          "end_time": "2022-08-24T10:03:49.761876",
          "exception": false,
          "start_time": "2022-08-24T10:03:49.265192",
          "status": "completed"
        },
        "tags": [],
        "id": "9429b947"
      },
      "outputs": [],
      "source": [
        "for i in vif_cols:\n",
        "    num_cols.remove(i)"
      ]
    },
    {
      "cell_type": "code",
      "execution_count": null,
      "id": "e5957c58",
      "metadata": {
        "execution": {
          "iopub.execute_input": "2022-08-24T10:03:51.741813Z",
          "iopub.status.busy": "2022-08-24T10:03:51.737360Z",
          "iopub.status.idle": "2022-08-24T10:03:51.907786Z",
          "shell.execute_reply": "2022-08-24T10:03:51.906552Z"
        },
        "papermill": {
          "duration": 0.963976,
          "end_time": "2022-08-24T10:03:51.911444",
          "exception": false,
          "start_time": "2022-08-24T10:03:50.947468",
          "status": "completed"
        },
        "tags": [],
        "id": "e5957c58"
      },
      "outputs": [],
      "source": [
        "vif=vif_df(X_2[num_cols])\n",
        "vif"
      ]
    },
    {
      "cell_type": "markdown",
      "id": "80527c28",
      "metadata": {
        "papermill": {
          "duration": 0.721095,
          "end_time": "2022-08-24T10:03:53.352307",
          "exception": false,
          "start_time": "2022-08-24T10:03:52.631212",
          "status": "completed"
        },
        "tags": [],
        "id": "80527c28"
      },
      "source": [
        "##### after doing vif, all values are less then 5, so little multicolinear"
      ]
    },
    {
      "cell_type": "code",
      "execution_count": null,
      "id": "72d83172",
      "metadata": {
        "execution": {
          "iopub.execute_input": "2022-08-24T10:03:54.847357Z",
          "iopub.status.busy": "2022-08-24T10:03:54.845979Z",
          "iopub.status.idle": "2022-08-24T10:03:54.870248Z",
          "shell.execute_reply": "2022-08-24T10:03:54.866773Z"
        },
        "papermill": {
          "duration": 0.750004,
          "end_time": "2022-08-24T10:03:54.879744",
          "exception": false,
          "start_time": "2022-08-24T10:03:54.129740",
          "status": "completed"
        },
        "tags": [],
        "id": "72d83172"
      },
      "outputs": [],
      "source": [
        "y.value_counts()"
      ]
    },
    {
      "cell_type": "code",
      "execution_count": null,
      "id": "4131563c",
      "metadata": {
        "execution": {
          "iopub.execute_input": "2022-08-24T10:03:56.342894Z",
          "iopub.status.busy": "2022-08-24T10:03:56.342474Z",
          "iopub.status.idle": "2022-08-24T10:03:56.349221Z",
          "shell.execute_reply": "2022-08-24T10:03:56.348097Z"
        },
        "papermill": {
          "duration": 0.754268,
          "end_time": "2022-08-24T10:03:56.354004",
          "exception": false,
          "start_time": "2022-08-24T10:03:55.599736",
          "status": "completed"
        },
        "tags": [],
        "id": "4131563c"
      },
      "outputs": [],
      "source": [
        "##### dropping vif high cols \n",
        "X_1.drop(vif_cols,axis=1,inplace=True)"
      ]
    },
    {
      "cell_type": "code",
      "execution_count": null,
      "id": "f4d3046c",
      "metadata": {
        "execution": {
          "iopub.execute_input": "2022-08-24T10:03:57.748352Z",
          "iopub.status.busy": "2022-08-24T10:03:57.747307Z",
          "iopub.status.idle": "2022-08-24T10:03:57.780660Z",
          "shell.execute_reply": "2022-08-24T10:03:57.779759Z"
        },
        "papermill": {
          "duration": 0.721307,
          "end_time": "2022-08-24T10:03:57.783191",
          "exception": false,
          "start_time": "2022-08-24T10:03:57.061884",
          "status": "completed"
        },
        "tags": [],
        "id": "f4d3046c"
      },
      "outputs": [],
      "source": [
        "#### doing oversampling of the minority class\n",
        "from imblearn.over_sampling import RandomOverSampler\n",
        "oversample= RandomOverSampler(sampling_strategy=0.4)\n",
        "X_1,y= oversample.fit_resample(X_1,y)"
      ]
    },
    {
      "cell_type": "code",
      "execution_count": null,
      "id": "bdb0dc5f",
      "metadata": {
        "execution": {
          "iopub.execute_input": "2022-08-24T10:03:59.051109Z",
          "iopub.status.busy": "2022-08-24T10:03:59.050657Z",
          "iopub.status.idle": "2022-08-24T10:03:59.109390Z",
          "shell.execute_reply": "2022-08-24T10:03:59.108239Z"
        },
        "papermill": {
          "duration": 0.69092,
          "end_time": "2022-08-24T10:03:59.113313",
          "exception": false,
          "start_time": "2022-08-24T10:03:58.422393",
          "status": "completed"
        },
        "tags": [],
        "id": "bdb0dc5f"
      },
      "outputs": [],
      "source": [
        "sc_scale= StandardScaler()\n",
        "X_1[num_cols]= sc_scale.fit_transform(X_1[num_cols])\n",
        "X_1"
      ]
    },
    {
      "cell_type": "code",
      "execution_count": null,
      "id": "d9acbf4a",
      "metadata": {
        "execution": {
          "iopub.execute_input": "2022-08-24T10:04:00.341173Z",
          "iopub.status.busy": "2022-08-24T10:04:00.336497Z",
          "iopub.status.idle": "2022-08-24T10:04:00.376086Z",
          "shell.execute_reply": "2022-08-24T10:04:00.373010Z"
        },
        "papermill": {
          "duration": 0.683122,
          "end_time": "2022-08-24T10:04:00.379394",
          "exception": false,
          "start_time": "2022-08-24T10:03:59.696272",
          "status": "completed"
        },
        "tags": [],
        "id": "d9acbf4a"
      },
      "outputs": [],
      "source": [
        "y.value_counts()"
      ]
    },
    {
      "cell_type": "markdown",
      "id": "23907143",
      "metadata": {
        "papermill": {
          "duration": 0.933646,
          "end_time": "2022-08-24T10:04:02.073792",
          "exception": false,
          "start_time": "2022-08-24T10:04:01.140146",
          "status": "completed"
        },
        "tags": [],
        "id": "23907143"
      },
      "source": [
        "#### Logistic Regression"
      ]
    },
    {
      "cell_type": "code",
      "execution_count": null,
      "id": "27a59d67",
      "metadata": {
        "execution": {
          "iopub.execute_input": "2022-08-24T10:04:03.155614Z",
          "iopub.status.busy": "2022-08-24T10:04:03.155037Z",
          "iopub.status.idle": "2022-08-24T10:04:03.285856Z",
          "shell.execute_reply": "2022-08-24T10:04:03.284626Z"
        },
        "papermill": {
          "duration": 0.653537,
          "end_time": "2022-08-24T10:04:03.288968",
          "exception": false,
          "start_time": "2022-08-24T10:04:02.635431",
          "status": "completed"
        },
        "tags": [],
        "id": "27a59d67"
      },
      "outputs": [],
      "source": [
        "###### Applying logistics regression\n",
        "from sklearn.linear_model import LogisticRegression\n",
        "lr_clf= LogisticRegression()\n",
        "lr_clf.fit(X_1,y)"
      ]
    },
    {
      "cell_type": "code",
      "execution_count": null,
      "id": "d3a4f87b",
      "metadata": {
        "execution": {
          "iopub.execute_input": "2022-08-24T10:04:04.339503Z",
          "iopub.status.busy": "2022-08-24T10:04:04.339076Z",
          "iopub.status.idle": "2022-08-24T10:04:04.371035Z",
          "shell.execute_reply": "2022-08-24T10:04:04.370020Z"
        },
        "papermill": {
          "duration": 0.548629,
          "end_time": "2022-08-24T10:04:04.373577",
          "exception": false,
          "start_time": "2022-08-24T10:04:03.824948",
          "status": "completed"
        },
        "tags": [],
        "id": "d3a4f87b"
      },
      "outputs": [],
      "source": [
        "X_test_tree= X_test.copy()\n",
        "X_test.drop('CLIENTNUM',axis=1,inplace=True)\n",
        "for i in ['Gender', 'Education_Level','Marital_Status','Income_Category','Card_Category']:\n",
        "    tempdf= pd.get_dummies(X_test[i],drop_first=True,prefix=i)\n",
        "    X_test= pd.concat([X_test,tempdf],axis=1)\n",
        "    X_test.drop(i,axis=1,inplace=True)\n",
        "\n",
        "X_test[num_cols]= sc_scale.transform(X_test[num_cols])\n",
        "y_test= y_test.map(target_dict)"
      ]
    },
    {
      "cell_type": "code",
      "execution_count": null,
      "id": "d469e7b3",
      "metadata": {
        "execution": {
          "iopub.execute_input": "2022-08-24T10:04:05.401544Z",
          "iopub.status.busy": "2022-08-24T10:04:05.400787Z",
          "iopub.status.idle": "2022-08-24T10:04:05.407533Z",
          "shell.execute_reply": "2022-08-24T10:04:05.406510Z"
        },
        "papermill": {
          "duration": 0.52545,
          "end_time": "2022-08-24T10:04:05.409812",
          "exception": false,
          "start_time": "2022-08-24T10:04:04.884362",
          "status": "completed"
        },
        "tags": [],
        "id": "d469e7b3"
      },
      "outputs": [],
      "source": [
        "X_test.drop(vif_cols,axis=1,inplace=True)"
      ]
    },
    {
      "cell_type": "code",
      "execution_count": null,
      "id": "a634b978",
      "metadata": {
        "execution": {
          "iopub.execute_input": "2022-08-24T10:04:06.606657Z",
          "iopub.status.busy": "2022-08-24T10:04:06.605890Z",
          "iopub.status.idle": "2022-08-24T10:04:06.618122Z",
          "shell.execute_reply": "2022-08-24T10:04:06.616885Z"
        },
        "papermill": {
          "duration": 0.507725,
          "end_time": "2022-08-24T10:04:06.621250",
          "exception": false,
          "start_time": "2022-08-24T10:04:06.113525",
          "status": "completed"
        },
        "tags": [],
        "id": "a634b978"
      },
      "outputs": [],
      "source": [
        "y_testpred= lr_clf.predict(X_test)\n",
        "y_trainpred= lr_clf.predict(X_1)"
      ]
    },
    {
      "cell_type": "code",
      "execution_count": null,
      "id": "953543a2",
      "metadata": {
        "execution": {
          "iopub.execute_input": "2022-08-24T10:04:07.725175Z",
          "iopub.status.busy": "2022-08-24T10:04:07.724768Z",
          "iopub.status.idle": "2022-08-24T10:04:07.731119Z",
          "shell.execute_reply": "2022-08-24T10:04:07.729638Z"
        },
        "papermill": {
          "duration": 0.525821,
          "end_time": "2022-08-24T10:04:07.733564",
          "exception": false,
          "start_time": "2022-08-24T10:04:07.207743",
          "status": "completed"
        },
        "tags": [],
        "id": "953543a2"
      },
      "outputs": [],
      "source": [
        "import sklearn.metrics as sm\n",
        "def get_metrics(y_test,y_pred):\n",
        "    print(f'The accuracy of model is {sm.accuracy_score(y_test,y_pred)}')\n",
        "    print()\n",
        "    print('-----------The classification report is ----------')\n",
        "    print(sm.classification_report(y_test,y_pred))"
      ]
    },
    {
      "cell_type": "code",
      "execution_count": null,
      "id": "2c30b1de",
      "metadata": {
        "execution": {
          "iopub.execute_input": "2022-08-24T10:04:08.834519Z",
          "iopub.status.busy": "2022-08-24T10:04:08.833692Z",
          "iopub.status.idle": "2022-08-24T10:04:08.860549Z",
          "shell.execute_reply": "2022-08-24T10:04:08.859105Z"
        },
        "papermill": {
          "duration": 0.617466,
          "end_time": "2022-08-24T10:04:08.862757",
          "exception": false,
          "start_time": "2022-08-24T10:04:08.245291",
          "status": "completed"
        },
        "tags": [],
        "id": "2c30b1de"
      },
      "outputs": [],
      "source": [
        "print('train data results')\n",
        "get_metrics(y,y_trainpred)"
      ]
    },
    {
      "cell_type": "code",
      "execution_count": null,
      "id": "d81b0680",
      "metadata": {
        "execution": {
          "iopub.execute_input": "2022-08-24T10:04:09.848188Z",
          "iopub.status.busy": "2022-08-24T10:04:09.847756Z",
          "iopub.status.idle": "2022-08-24T10:04:09.862587Z",
          "shell.execute_reply": "2022-08-24T10:04:09.861360Z"
        },
        "papermill": {
          "duration": 0.519423,
          "end_time": "2022-08-24T10:04:09.865126",
          "exception": false,
          "start_time": "2022-08-24T10:04:09.345703",
          "status": "completed"
        },
        "tags": [],
        "id": "d81b0680"
      },
      "outputs": [],
      "source": [
        "print('test data results')\n",
        "get_metrics(y_test,y_testpred)"
      ]
    },
    {
      "cell_type": "code",
      "execution_count": null,
      "id": "4c58f1d4",
      "metadata": {
        "execution": {
          "iopub.execute_input": "2022-08-24T10:04:11.280705Z",
          "iopub.status.busy": "2022-08-24T10:04:11.280291Z",
          "iopub.status.idle": "2022-08-24T10:04:11.539977Z",
          "shell.execute_reply": "2022-08-24T10:04:11.538754Z"
        },
        "papermill": {
          "duration": 1.15727,
          "end_time": "2022-08-24T10:04:11.542616",
          "exception": false,
          "start_time": "2022-08-24T10:04:10.385346",
          "status": "completed"
        },
        "tags": [],
        "id": "4c58f1d4"
      },
      "outputs": [],
      "source": [
        "sm.plot_confusion_matrix(lr_clf,X_test,y_test)\n",
        "plt.title('Confusion matrix for logistic regression for test data')\n",
        "plt.show()"
      ]
    },
    {
      "cell_type": "code",
      "execution_count": null,
      "id": "456c7d5f",
      "metadata": {
        "execution": {
          "iopub.execute_input": "2022-08-24T10:04:12.526750Z",
          "iopub.status.busy": "2022-08-24T10:04:12.526087Z",
          "iopub.status.idle": "2022-08-24T10:04:12.740731Z",
          "shell.execute_reply": "2022-08-24T10:04:12.739738Z"
        },
        "papermill": {
          "duration": 0.700908,
          "end_time": "2022-08-24T10:04:12.743163",
          "exception": false,
          "start_time": "2022-08-24T10:04:12.042255",
          "status": "completed"
        },
        "tags": [],
        "id": "456c7d5f"
      },
      "outputs": [],
      "source": [
        "sm.plot_confusion_matrix(lr_clf,X_1,y)\n",
        "plt.title('Confusion matrix for logistic regression for train data')\n",
        "plt.show()"
      ]
    },
    {
      "cell_type": "markdown",
      "id": "6163ef0a",
      "metadata": {
        "papermill": {
          "duration": 0.510323,
          "end_time": "2022-08-24T10:04:13.809371",
          "exception": false,
          "start_time": "2022-08-24T10:04:13.299048",
          "status": "completed"
        },
        "tags": [],
        "id": "6163ef0a"
      },
      "source": [
        "##### Observations\n",
        "\n",
        "1. First try, we tried with all columns [ features ] without balancing the dataset, the result was quite good but need little improvement on recall side [ around 0.52 ] \n",
        "\n",
        "2. Second try , remove high multicolinear columns and then tried, still same pattern of results but little lower than first try [ not much]\n",
        "\n",
        "3. thrid try , used oversampling of minority class to 40% and got better results in recall [0.68] !!!!!!"
      ]
    },
    {
      "cell_type": "markdown",
      "id": "30034e0b",
      "metadata": {
        "papermill": {
          "duration": 0.475919,
          "end_time": "2022-08-24T10:04:14.766617",
          "exception": false,
          "start_time": "2022-08-24T10:04:14.290698",
          "status": "completed"
        },
        "tags": [],
        "id": "30034e0b"
      },
      "source": [
        "#### ----------------------------Bagging Methods--------------------------"
      ]
    },
    {
      "cell_type": "code",
      "execution_count": null,
      "id": "cb3c95b8",
      "metadata": {
        "execution": {
          "iopub.execute_input": "2022-08-24T10:04:15.771622Z",
          "iopub.status.busy": "2022-08-24T10:04:15.771234Z",
          "iopub.status.idle": "2022-08-24T10:04:15.777793Z",
          "shell.execute_reply": "2022-08-24T10:04:15.776940Z"
        },
        "papermill": {
          "duration": 0.522722,
          "end_time": "2022-08-24T10:04:15.779880",
          "exception": false,
          "start_time": "2022-08-24T10:04:15.257158",
          "status": "completed"
        },
        "tags": [],
        "id": "cb3c95b8"
      },
      "outputs": [],
      "source": [
        "##### Trying with tree models\n",
        "\n",
        "X_tree= train_df.drop(['CLIENTNUM','Attrition_Flag'],axis=1)\n",
        "y_tree= train_df['Attrition_Flag']\n"
      ]
    },
    {
      "cell_type": "code",
      "execution_count": null,
      "id": "a14e105d",
      "metadata": {
        "execution": {
          "iopub.execute_input": "2022-08-24T10:04:17.149915Z",
          "iopub.status.busy": "2022-08-24T10:04:17.148718Z",
          "iopub.status.idle": "2022-08-24T10:04:17.164483Z",
          "shell.execute_reply": "2022-08-24T10:04:17.163550Z"
        },
        "papermill": {
          "duration": 0.53999,
          "end_time": "2022-08-24T10:04:17.166818",
          "exception": false,
          "start_time": "2022-08-24T10:04:16.626828",
          "status": "completed"
        },
        "tags": [],
        "id": "a14e105d"
      },
      "outputs": [],
      "source": [
        "for col in vif_cols:\n",
        "    X_tree=X_tree.drop(col,axis=1)\n",
        "X_tree.columns"
      ]
    },
    {
      "cell_type": "code",
      "execution_count": null,
      "id": "86246e5f",
      "metadata": {
        "execution": {
          "iopub.execute_input": "2022-08-24T10:04:18.205876Z",
          "iopub.status.busy": "2022-08-24T10:04:18.205082Z",
          "iopub.status.idle": "2022-08-24T10:04:18.224854Z",
          "shell.execute_reply": "2022-08-24T10:04:18.223856Z"
        },
        "papermill": {
          "duration": 0.547641,
          "end_time": "2022-08-24T10:04:18.227509",
          "exception": false,
          "start_time": "2022-08-24T10:04:17.679868",
          "status": "completed"
        },
        "tags": [],
        "id": "86246e5f"
      },
      "outputs": [],
      "source": [
        "### label encoding data\n",
        "from sklearn.preprocessing import LabelEncoder\n",
        "label_dict= {col:LabelEncoder() for col in ['Gender', 'Education_Level','Marital_Status','Income_Category','Card_Category']}\n",
        "for col in ['Gender', 'Education_Level','Marital_Status','Income_Category','Card_Category']:\n",
        "    X_tree[col]= label_dict[col].fit_transform(X_tree[col])\n"
      ]
    },
    {
      "cell_type": "code",
      "execution_count": null,
      "id": "b93b27b3",
      "metadata": {
        "execution": {
          "iopub.execute_input": "2022-08-24T10:04:19.245935Z",
          "iopub.status.busy": "2022-08-24T10:04:19.245119Z",
          "iopub.status.idle": "2022-08-24T10:04:19.269342Z",
          "shell.execute_reply": "2022-08-24T10:04:19.268118Z"
        },
        "papermill": {
          "duration": 0.538781,
          "end_time": "2022-08-24T10:04:19.271850",
          "exception": false,
          "start_time": "2022-08-24T10:04:18.733069",
          "status": "completed"
        },
        "tags": [],
        "id": "b93b27b3"
      },
      "outputs": [],
      "source": [
        "X_tree"
      ]
    },
    {
      "cell_type": "code",
      "execution_count": null,
      "id": "76285af1",
      "metadata": {
        "execution": {
          "iopub.execute_input": "2022-08-24T10:04:20.252494Z",
          "iopub.status.busy": "2022-08-24T10:04:20.251668Z",
          "iopub.status.idle": "2022-08-24T10:04:20.284876Z",
          "shell.execute_reply": "2022-08-24T10:04:20.283702Z"
        },
        "papermill": {
          "duration": 0.513679,
          "end_time": "2022-08-24T10:04:20.287328",
          "exception": false,
          "start_time": "2022-08-24T10:04:19.773649",
          "status": "completed"
        },
        "tags": [],
        "id": "76285af1"
      },
      "outputs": [],
      "source": [
        "X_tree_test= X_test_copy.copy()\n",
        "X_tree_test= X_tree_test.drop('CLIENTNUM',axis=1)\n",
        "X_tree_test= X_tree_test.drop(vif_cols,axis=1)\n",
        "y_tree_test= y_test_copy.copy()\n",
        "for col in ['Gender', 'Education_Level','Marital_Status','Income_Category','Card_Category']:\n",
        "    X_tree_test[col]= label_dict[col].fit_transform(X_tree_test[col])\n",
        "    \n",
        "X_tree_test"
      ]
    },
    {
      "cell_type": "code",
      "execution_count": null,
      "id": "586a34b2",
      "metadata": {
        "execution": {
          "iopub.execute_input": "2022-08-24T10:04:21.611233Z",
          "iopub.status.busy": "2022-08-24T10:04:21.610346Z",
          "iopub.status.idle": "2022-08-24T10:04:21.624261Z",
          "shell.execute_reply": "2022-08-24T10:04:21.623107Z"
        },
        "papermill": {
          "duration": 0.855094,
          "end_time": "2022-08-24T10:04:21.626431",
          "exception": false,
          "start_time": "2022-08-24T10:04:20.771337",
          "status": "completed"
        },
        "tags": [],
        "id": "586a34b2"
      },
      "outputs": [],
      "source": [
        "X_tree_test.info()"
      ]
    },
    {
      "cell_type": "code",
      "execution_count": null,
      "id": "d3409e20",
      "metadata": {
        "execution": {
          "iopub.execute_input": "2022-08-24T10:04:22.672566Z",
          "iopub.status.busy": "2022-08-24T10:04:22.671848Z",
          "iopub.status.idle": "2022-08-24T10:04:22.679617Z",
          "shell.execute_reply": "2022-08-24T10:04:22.678737Z"
        },
        "papermill": {
          "duration": 0.503729,
          "end_time": "2022-08-24T10:04:22.682072",
          "exception": false,
          "start_time": "2022-08-24T10:04:22.178343",
          "status": "completed"
        },
        "tags": [],
        "id": "d3409e20"
      },
      "outputs": [],
      "source": [
        "y_tree= y_tree.map(target_dict)\n",
        "y_tree_test= y_tree_test.map(target_dict)"
      ]
    },
    {
      "cell_type": "code",
      "execution_count": null,
      "id": "f704b79f",
      "metadata": {
        "execution": {
          "iopub.execute_input": "2022-08-24T10:04:23.728644Z",
          "iopub.status.busy": "2022-08-24T10:04:23.728268Z",
          "iopub.status.idle": "2022-08-24T10:04:23.745569Z",
          "shell.execute_reply": "2022-08-24T10:04:23.744627Z"
        },
        "papermill": {
          "duration": 0.552105,
          "end_time": "2022-08-24T10:04:23.748098",
          "exception": false,
          "start_time": "2022-08-24T10:04:23.195993",
          "status": "completed"
        },
        "tags": [],
        "id": "f704b79f"
      },
      "outputs": [],
      "source": [
        "oversample= RandomOverSampler(sampling_strategy=0.4)\n",
        "X_tree,y_tree= oversample.fit_resample(X_tree,y_tree)"
      ]
    },
    {
      "cell_type": "code",
      "execution_count": null,
      "id": "8f5f59d3",
      "metadata": {
        "execution": {
          "iopub.execute_input": "2022-08-24T10:04:24.756651Z",
          "iopub.status.busy": "2022-08-24T10:04:24.755875Z",
          "iopub.status.idle": "2022-08-24T10:04:24.832212Z",
          "shell.execute_reply": "2022-08-24T10:04:24.831263Z"
        },
        "papermill": {
          "duration": 0.568648,
          "end_time": "2022-08-24T10:04:24.834778",
          "exception": false,
          "start_time": "2022-08-24T10:04:24.266130",
          "status": "completed"
        },
        "tags": [],
        "id": "8f5f59d3"
      },
      "outputs": [],
      "source": [
        "from sklearn.tree import DecisionTreeClassifier\n",
        "dt_clf= DecisionTreeClassifier(random_state=0)\n",
        "dt_clf.fit(X_tree,y_tree)\n",
        "y_trainpred= dt_clf.predict(X_tree)\n",
        "y_testpred= dt_clf.predict(X_tree_test)"
      ]
    },
    {
      "cell_type": "code",
      "execution_count": null,
      "id": "9a383fff",
      "metadata": {
        "execution": {
          "iopub.execute_input": "2022-08-24T10:04:25.873478Z",
          "iopub.status.busy": "2022-08-24T10:04:25.872645Z",
          "iopub.status.idle": "2022-08-24T10:04:25.898118Z",
          "shell.execute_reply": "2022-08-24T10:04:25.896981Z"
        },
        "papermill": {
          "duration": 0.556281,
          "end_time": "2022-08-24T10:04:25.900566",
          "exception": false,
          "start_time": "2022-08-24T10:04:25.344285",
          "status": "completed"
        },
        "tags": [],
        "id": "9a383fff"
      },
      "outputs": [],
      "source": [
        "print('train data results')\n",
        "get_metrics(y_tree,y_trainpred)"
      ]
    },
    {
      "cell_type": "code",
      "execution_count": null,
      "id": "e436afbb",
      "metadata": {
        "execution": {
          "iopub.execute_input": "2022-08-24T10:04:27.190546Z",
          "iopub.status.busy": "2022-08-24T10:04:27.189478Z",
          "iopub.status.idle": "2022-08-24T10:04:27.208446Z",
          "shell.execute_reply": "2022-08-24T10:04:27.207278Z"
        },
        "papermill": {
          "duration": 0.505084,
          "end_time": "2022-08-24T10:04:27.210824",
          "exception": false,
          "start_time": "2022-08-24T10:04:26.705740",
          "status": "completed"
        },
        "tags": [],
        "id": "e436afbb"
      },
      "outputs": [],
      "source": [
        "print('test data results')\n",
        "get_metrics(y_tree_test,y_testpred)"
      ]
    },
    {
      "cell_type": "markdown",
      "id": "b5a2826b",
      "metadata": {
        "papermill": {
          "duration": 0.515265,
          "end_time": "2022-08-24T10:04:28.233830",
          "exception": false,
          "start_time": "2022-08-24T10:04:27.718565",
          "status": "completed"
        },
        "tags": [],
        "id": "b5a2826b"
      },
      "source": [
        "#### This result seems to be overfitting "
      ]
    },
    {
      "cell_type": "code",
      "execution_count": null,
      "id": "fcbe6a46",
      "metadata": {
        "execution": {
          "iopub.execute_input": "2022-08-24T10:04:29.257590Z",
          "iopub.status.busy": "2022-08-24T10:04:29.257219Z",
          "iopub.status.idle": "2022-08-24T10:04:29.264099Z",
          "shell.execute_reply": "2022-08-24T10:04:29.262692Z"
        },
        "papermill": {
          "duration": 0.515121,
          "end_time": "2022-08-24T10:04:29.266466",
          "exception": false,
          "start_time": "2022-08-24T10:04:28.751345",
          "status": "completed"
        },
        "tags": [],
        "id": "fcbe6a46"
      },
      "outputs": [],
      "source": [
        "#### randomized cv search \n",
        "from sklearn.model_selection import RandomizedSearchCV\n",
        "def randomized_search_cv(estimator,params,X_train,y_train):\n",
        "    random_model= RandomizedSearchCV(estimator=estimator,param_distributions=params,cv=5,n_iter=5,random_state=0,scoring='f1',return_train_score=True,verbose=10)\n",
        "    random_model.fit(X_train,y_train)\n",
        "    print(f'The best params for this model is {random_model.best_params_} ')\n",
        "    print(f'The best score for this model is {random_model.best_score_} ')\n",
        "    return random_model\n"
      ]
    },
    {
      "cell_type": "code",
      "execution_count": null,
      "id": "5bd234d6",
      "metadata": {
        "execution": {
          "iopub.execute_input": "2022-08-24T10:04:30.226221Z",
          "iopub.status.busy": "2022-08-24T10:04:30.225410Z",
          "iopub.status.idle": "2022-08-24T10:04:31.304176Z",
          "shell.execute_reply": "2022-08-24T10:04:31.302939Z"
        },
        "papermill": {
          "duration": 1.562461,
          "end_time": "2022-08-24T10:04:31.306484",
          "exception": false,
          "start_time": "2022-08-24T10:04:29.744023",
          "status": "completed"
        },
        "tags": [],
        "id": "5bd234d6"
      },
      "outputs": [],
      "source": [
        "dt_params={'max_depth':[i for i in range(3,10)],'min_samples_leaf':[i for i in range(10,50,10)],'min_samples_split':[i for i in range(10,15,65)]}\n",
        "dt_random_model= randomized_search_cv(DecisionTreeClassifier(random_state=0),dt_params,X_tree,y_tree)"
      ]
    },
    {
      "cell_type": "code",
      "execution_count": null,
      "id": "f1dfab62",
      "metadata": {
        "execution": {
          "iopub.execute_input": "2022-08-24T10:04:32.264617Z",
          "iopub.status.busy": "2022-08-24T10:04:32.264242Z",
          "iopub.status.idle": "2022-08-24T10:04:32.318234Z",
          "shell.execute_reply": "2022-08-24T10:04:32.317245Z"
        },
        "papermill": {
          "duration": 0.536735,
          "end_time": "2022-08-24T10:04:32.320773",
          "exception": false,
          "start_time": "2022-08-24T10:04:31.784038",
          "status": "completed"
        },
        "tags": [],
        "id": "f1dfab62"
      },
      "outputs": [],
      "source": [
        "#### trying with updated params\n",
        "dt_clf= DecisionTreeClassifier(**dt_random_model.best_params_)\n",
        "dt_clf.fit(X_tree,y_tree)\n",
        "y_trainpred= dt_clf.predict(X_tree)\n",
        "y_testpred= dt_clf.predict(X_tree_test)"
      ]
    },
    {
      "cell_type": "code",
      "execution_count": null,
      "id": "dcd619fc",
      "metadata": {
        "execution": {
          "iopub.execute_input": "2022-08-24T10:04:33.287038Z",
          "iopub.status.busy": "2022-08-24T10:04:33.285997Z",
          "iopub.status.idle": "2022-08-24T10:04:33.315827Z",
          "shell.execute_reply": "2022-08-24T10:04:33.314572Z"
        },
        "papermill": {
          "duration": 0.517649,
          "end_time": "2022-08-24T10:04:33.318001",
          "exception": false,
          "start_time": "2022-08-24T10:04:32.800352",
          "status": "completed"
        },
        "tags": [],
        "id": "dcd619fc"
      },
      "outputs": [],
      "source": [
        "print('train data results')\n",
        "get_metrics(y_tree,y_trainpred)"
      ]
    },
    {
      "cell_type": "code",
      "execution_count": null,
      "id": "30d0d49f",
      "metadata": {
        "execution": {
          "iopub.execute_input": "2022-08-24T10:04:34.325803Z",
          "iopub.status.busy": "2022-08-24T10:04:34.324790Z",
          "iopub.status.idle": "2022-08-24T10:04:34.341324Z",
          "shell.execute_reply": "2022-08-24T10:04:34.340508Z"
        },
        "papermill": {
          "duration": 0.528102,
          "end_time": "2022-08-24T10:04:34.344327",
          "exception": false,
          "start_time": "2022-08-24T10:04:33.816225",
          "status": "completed"
        },
        "tags": [],
        "id": "30d0d49f"
      },
      "outputs": [],
      "source": [
        "print('test data results')\n",
        "get_metrics(y_tree_test,y_testpred)"
      ]
    },
    {
      "cell_type": "code",
      "execution_count": null,
      "id": "05ad044b",
      "metadata": {
        "execution": {
          "iopub.execute_input": "2022-08-24T10:04:35.429916Z",
          "iopub.status.busy": "2022-08-24T10:04:35.429112Z",
          "iopub.status.idle": "2022-08-24T10:04:35.617461Z",
          "shell.execute_reply": "2022-08-24T10:04:35.616233Z"
        },
        "papermill": {
          "duration": 0.760064,
          "end_time": "2022-08-24T10:04:35.620094",
          "exception": false,
          "start_time": "2022-08-24T10:04:34.860030",
          "status": "completed"
        },
        "tags": [],
        "id": "05ad044b"
      },
      "outputs": [],
      "source": [
        "sm.plot_confusion_matrix(dt_clf,X_tree_test,y_tree_test)\n",
        "plt.title('Confusion matrix for decison tree classifier for test data')\n",
        "plt.show()"
      ]
    },
    {
      "cell_type": "markdown",
      "id": "1b1ca023",
      "metadata": {
        "papermill": {
          "duration": 0.485281,
          "end_time": "2022-08-24T10:04:36.660310",
          "exception": false,
          "start_time": "2022-08-24T10:04:36.175029",
          "status": "completed"
        },
        "tags": [],
        "id": "1b1ca023"
      },
      "source": [
        "#### Observations\n",
        "\n",
        "1. The results after hyper-parameter tuning of decision tree is good than without tuning.\n",
        "\n",
        "2. Accuracy, recall, precision are good comparing test and train data."
      ]
    },
    {
      "cell_type": "code",
      "execution_count": null,
      "id": "fffccc1f",
      "metadata": {
        "execution": {
          "iopub.execute_input": "2022-08-24T10:04:38.136813Z",
          "iopub.status.busy": "2022-08-24T10:04:38.136384Z",
          "iopub.status.idle": "2022-08-24T10:04:39.740034Z",
          "shell.execute_reply": "2022-08-24T10:04:39.738915Z"
        },
        "papermill": {
          "duration": 2.568697,
          "end_time": "2022-08-24T10:04:39.742658",
          "exception": false,
          "start_time": "2022-08-24T10:04:37.173961",
          "status": "completed"
        },
        "tags": [],
        "id": "fffccc1f"
      },
      "outputs": [],
      "source": [
        "#### Random forest classifier\n",
        "from sklearn.ensemble import RandomForestClassifier\n",
        "rf_clf= RandomForestClassifier(random_state=0)\n",
        "rf_clf.fit(X_tree,y_tree)\n",
        "y_trainpred= rf_clf.predict(X_tree)\n",
        "y_testpred= rf_clf.predict(X_tree_test)"
      ]
    },
    {
      "cell_type": "code",
      "execution_count": null,
      "id": "3399dbea",
      "metadata": {
        "execution": {
          "iopub.execute_input": "2022-08-24T10:04:40.736513Z",
          "iopub.status.busy": "2022-08-24T10:04:40.735861Z",
          "iopub.status.idle": "2022-08-24T10:04:40.762039Z",
          "shell.execute_reply": "2022-08-24T10:04:40.760636Z"
        },
        "papermill": {
          "duration": 0.508327,
          "end_time": "2022-08-24T10:04:40.764246",
          "exception": false,
          "start_time": "2022-08-24T10:04:40.255919",
          "status": "completed"
        },
        "tags": [],
        "id": "3399dbea"
      },
      "outputs": [],
      "source": [
        "print('train data results')\n",
        "get_metrics(y_tree,y_trainpred)"
      ]
    },
    {
      "cell_type": "code",
      "execution_count": null,
      "id": "599cee64",
      "metadata": {
        "execution": {
          "iopub.execute_input": "2022-08-24T10:04:41.785633Z",
          "iopub.status.busy": "2022-08-24T10:04:41.784890Z",
          "iopub.status.idle": "2022-08-24T10:04:41.798967Z",
          "shell.execute_reply": "2022-08-24T10:04:41.797719Z"
        },
        "papermill": {
          "duration": 0.528927,
          "end_time": "2022-08-24T10:04:41.802371",
          "exception": false,
          "start_time": "2022-08-24T10:04:41.273444",
          "status": "completed"
        },
        "tags": [],
        "id": "599cee64"
      },
      "outputs": [],
      "source": [
        "print('test data results')\n",
        "get_metrics(y_tree_test,y_testpred)"
      ]
    },
    {
      "cell_type": "code",
      "execution_count": null,
      "id": "ada21379",
      "metadata": {
        "execution": {
          "iopub.execute_input": "2022-08-24T10:04:42.796847Z",
          "iopub.status.busy": "2022-08-24T10:04:42.795654Z",
          "iopub.status.idle": "2022-08-24T10:07:39.474774Z",
          "shell.execute_reply": "2022-08-24T10:07:39.473373Z"
        },
        "papermill": {
          "duration": 177.176641,
          "end_time": "2022-08-24T10:07:39.477539",
          "exception": false,
          "start_time": "2022-08-24T10:04:42.300898",
          "status": "completed"
        },
        "tags": [],
        "id": "ada21379"
      },
      "outputs": [],
      "source": [
        "rf_params={'n_estimators':[i for i in range(100,1500,200)],'max_depth':[i for i in range(3,10,2)],'min_samples_split':[i for i in range(30,100,20)],'min_samples_leaf':[i for i in range(30,100,30)]}\n",
        "rf_randommodel= randomized_search_cv(RandomForestClassifier(random_state=0),rf_params,X_tree,y_tree)"
      ]
    },
    {
      "cell_type": "code",
      "execution_count": null,
      "id": "03dcd3f4",
      "metadata": {
        "execution": {
          "iopub.execute_input": "2022-08-24T10:07:40.485070Z",
          "iopub.status.busy": "2022-08-24T10:07:40.484634Z",
          "iopub.status.idle": "2022-08-24T10:07:54.515796Z",
          "shell.execute_reply": "2022-08-24T10:07:54.514020Z"
        },
        "papermill": {
          "duration": 14.541419,
          "end_time": "2022-08-24T10:07:54.518967",
          "exception": false,
          "start_time": "2022-08-24T10:07:39.977548",
          "status": "completed"
        },
        "tags": [],
        "id": "03dcd3f4"
      },
      "outputs": [],
      "source": [
        "#### trying with tuned params\n",
        "rf_clf= RandomForestClassifier(**rf_randommodel.best_params_,random_state=0)\n",
        "rf_clf.fit(X_tree,y_tree)\n",
        "y_trainpred= rf_clf.predict(X_tree)\n",
        "y_testpred= rf_clf.predict(X_tree_test)"
      ]
    },
    {
      "cell_type": "code",
      "execution_count": null,
      "id": "08a44fda",
      "metadata": {
        "execution": {
          "iopub.execute_input": "2022-08-24T10:07:55.504046Z",
          "iopub.status.busy": "2022-08-24T10:07:55.503601Z",
          "iopub.status.idle": "2022-08-24T10:07:55.529787Z",
          "shell.execute_reply": "2022-08-24T10:07:55.528551Z"
        },
        "papermill": {
          "duration": 0.52075,
          "end_time": "2022-08-24T10:07:55.532271",
          "exception": false,
          "start_time": "2022-08-24T10:07:55.011521",
          "status": "completed"
        },
        "tags": [],
        "id": "08a44fda"
      },
      "outputs": [],
      "source": [
        "print('train data results')\n",
        "get_metrics(y_tree,y_trainpred)"
      ]
    },
    {
      "cell_type": "code",
      "execution_count": null,
      "id": "44336d8c",
      "metadata": {
        "execution": {
          "iopub.execute_input": "2022-08-24T10:07:56.495385Z",
          "iopub.status.busy": "2022-08-24T10:07:56.494580Z",
          "iopub.status.idle": "2022-08-24T10:07:56.508027Z",
          "shell.execute_reply": "2022-08-24T10:07:56.506764Z"
        },
        "papermill": {
          "duration": 0.497416,
          "end_time": "2022-08-24T10:07:56.510393",
          "exception": false,
          "start_time": "2022-08-24T10:07:56.012977",
          "status": "completed"
        },
        "tags": [],
        "id": "44336d8c"
      },
      "outputs": [],
      "source": [
        "print('test data results')\n",
        "get_metrics(y_tree_test,y_testpred)"
      ]
    },
    {
      "cell_type": "code",
      "execution_count": null,
      "id": "fd548208",
      "metadata": {
        "execution": {
          "iopub.execute_input": "2022-08-24T10:07:57.605784Z",
          "iopub.status.busy": "2022-08-24T10:07:57.605347Z",
          "iopub.status.idle": "2022-08-24T10:07:58.216282Z",
          "shell.execute_reply": "2022-08-24T10:07:58.212750Z"
        },
        "papermill": {
          "duration": 1.129485,
          "end_time": "2022-08-24T10:07:58.219150",
          "exception": false,
          "start_time": "2022-08-24T10:07:57.089665",
          "status": "completed"
        },
        "tags": [],
        "id": "fd548208"
      },
      "outputs": [],
      "source": [
        "sm.plot_confusion_matrix(rf_clf,X_tree_test,y_tree_test)\n",
        "plt.title('Confusion matrix for decison tree classifier for test data')\n",
        "plt.show()"
      ]
    },
    {
      "cell_type": "markdown",
      "id": "a60ab530",
      "metadata": {
        "papermill": {
          "duration": 0.516375,
          "end_time": "2022-08-24T10:07:59.236713",
          "exception": false,
          "start_time": "2022-08-24T10:07:58.720338",
          "status": "completed"
        },
        "tags": [],
        "id": "a60ab530"
      },
      "source": [
        "### Boosting methods"
      ]
    },
    {
      "cell_type": "code",
      "execution_count": null,
      "id": "a8e79928",
      "metadata": {
        "execution": {
          "iopub.execute_input": "2022-08-24T10:08:00.273808Z",
          "iopub.status.busy": "2022-08-24T10:08:00.272994Z",
          "iopub.status.idle": "2022-08-24T10:08:00.923503Z",
          "shell.execute_reply": "2022-08-24T10:08:00.922101Z"
        },
        "papermill": {
          "duration": 1.177066,
          "end_time": "2022-08-24T10:08:00.926706",
          "exception": false,
          "start_time": "2022-08-24T10:07:59.749640",
          "status": "completed"
        },
        "tags": [],
        "id": "a8e79928"
      },
      "outputs": [],
      "source": [
        "### adaboost\n",
        "from sklearn.ensemble import AdaBoostClassifier\n",
        "adaboost_clf= AdaBoostClassifier(random_state=0)\n",
        "adaboost_clf.fit(X_tree,y_tree)\n",
        "y_trainpred= adaboost_clf.predict(X_tree)\n",
        "y_testpred= adaboost_clf.predict(X_tree_test)\n"
      ]
    },
    {
      "cell_type": "code",
      "execution_count": null,
      "id": "fcf7be85",
      "metadata": {
        "execution": {
          "iopub.execute_input": "2022-08-24T10:08:01.961333Z",
          "iopub.status.busy": "2022-08-24T10:08:01.960937Z",
          "iopub.status.idle": "2022-08-24T10:08:01.988028Z",
          "shell.execute_reply": "2022-08-24T10:08:01.986689Z"
        },
        "papermill": {
          "duration": 0.542895,
          "end_time": "2022-08-24T10:08:01.990496",
          "exception": false,
          "start_time": "2022-08-24T10:08:01.447601",
          "status": "completed"
        },
        "tags": [],
        "id": "fcf7be85"
      },
      "outputs": [],
      "source": [
        "print('train data results')\n",
        "get_metrics(y_tree,y_trainpred)"
      ]
    },
    {
      "cell_type": "code",
      "execution_count": null,
      "id": "3c907654",
      "metadata": {
        "execution": {
          "iopub.execute_input": "2022-08-24T10:08:03.002396Z",
          "iopub.status.busy": "2022-08-24T10:08:03.001307Z",
          "iopub.status.idle": "2022-08-24T10:08:03.015823Z",
          "shell.execute_reply": "2022-08-24T10:08:03.014598Z"
        },
        "papermill": {
          "duration": 0.503722,
          "end_time": "2022-08-24T10:08:03.018233",
          "exception": false,
          "start_time": "2022-08-24T10:08:02.514511",
          "status": "completed"
        },
        "tags": [],
        "id": "3c907654"
      },
      "outputs": [],
      "source": [
        "print('test data results')\n",
        "get_metrics(y_tree_test,y_testpred)"
      ]
    },
    {
      "cell_type": "markdown",
      "id": "307b63a5",
      "metadata": {
        "papermill": {
          "duration": 0.479326,
          "end_time": "2022-08-24T10:08:03.981708",
          "exception": false,
          "start_time": "2022-08-24T10:08:03.502382",
          "status": "completed"
        },
        "tags": [],
        "id": "307b63a5"
      },
      "source": [
        "#### Observations\n",
        "\n",
        "1. Adaboost model seems to be good in terms of recall and precision"
      ]
    },
    {
      "cell_type": "code",
      "execution_count": null,
      "id": "479787b1",
      "metadata": {
        "execution": {
          "iopub.execute_input": "2022-08-24T10:08:04.971730Z",
          "iopub.status.busy": "2022-08-24T10:08:04.971330Z",
          "iopub.status.idle": "2022-08-24T10:10:45.261988Z",
          "shell.execute_reply": "2022-08-24T10:10:45.260499Z"
        },
        "papermill": {
          "duration": 160.798873,
          "end_time": "2022-08-24T10:10:45.264358",
          "exception": false,
          "start_time": "2022-08-24T10:08:04.465485",
          "status": "completed"
        },
        "tags": [],
        "id": "479787b1"
      },
      "outputs": [],
      "source": [
        "#### LETS Tune and see the results\n",
        "adaboost_params= {'base_estimator':[DecisionTreeClassifier(max_depth=i,random_state=0) for i in range(3,13,2)],'n_estimators':[i for i in range(100,1200,200)],'learning_rate':[i for i in range(1,10)]}\n",
        "adaboost_random_model= randomized_search_cv(AdaBoostClassifier(random_state=0),adaboost_params,X_tree,y_tree)"
      ]
    },
    {
      "cell_type": "code",
      "execution_count": null,
      "id": "fb3d94ce",
      "metadata": {
        "execution": {
          "iopub.execute_input": "2022-08-24T10:10:46.268986Z",
          "iopub.status.busy": "2022-08-24T10:10:46.268560Z",
          "iopub.status.idle": "2022-08-24T10:11:01.020244Z",
          "shell.execute_reply": "2022-08-24T10:11:01.019057Z"
        },
        "papermill": {
          "duration": 15.262416,
          "end_time": "2022-08-24T10:11:01.023076",
          "exception": false,
          "start_time": "2022-08-24T10:10:45.760660",
          "status": "completed"
        },
        "tags": [],
        "id": "fb3d94ce"
      },
      "outputs": [],
      "source": [
        "#### trying tuned model\n",
        "adaboost_tuned_clf=AdaBoostClassifier(random_state=0,**adaboost_random_model.best_params_)\n",
        "adaboost_tuned_clf.fit(X_tree,y_tree)\n",
        "y_trainpred= adaboost_tuned_clf.predict(X_tree)\n",
        "y_testpred= adaboost_tuned_clf.predict(X_tree_test)"
      ]
    },
    {
      "cell_type": "code",
      "execution_count": null,
      "id": "7527e60e",
      "metadata": {
        "execution": {
          "iopub.execute_input": "2022-08-24T10:11:02.040432Z",
          "iopub.status.busy": "2022-08-24T10:11:02.039347Z",
          "iopub.status.idle": "2022-08-24T10:11:02.065518Z",
          "shell.execute_reply": "2022-08-24T10:11:02.064221Z"
        },
        "papermill": {
          "duration": 0.52762,
          "end_time": "2022-08-24T10:11:02.068006",
          "exception": false,
          "start_time": "2022-08-24T10:11:01.540386",
          "status": "completed"
        },
        "tags": [],
        "id": "7527e60e"
      },
      "outputs": [],
      "source": [
        "print('train data results')\n",
        "get_metrics(y_tree,y_trainpred)"
      ]
    },
    {
      "cell_type": "code",
      "execution_count": null,
      "id": "07658d1e",
      "metadata": {
        "execution": {
          "iopub.execute_input": "2022-08-24T10:11:03.075624Z",
          "iopub.status.busy": "2022-08-24T10:11:03.075035Z",
          "iopub.status.idle": "2022-08-24T10:11:03.092601Z",
          "shell.execute_reply": "2022-08-24T10:11:03.091757Z"
        },
        "papermill": {
          "duration": 0.54103,
          "end_time": "2022-08-24T10:11:03.095583",
          "exception": false,
          "start_time": "2022-08-24T10:11:02.554553",
          "status": "completed"
        },
        "tags": [],
        "id": "07658d1e"
      },
      "outputs": [],
      "source": [
        "print('test data results')\n",
        "get_metrics(y_tree_test,y_testpred)"
      ]
    },
    {
      "cell_type": "markdown",
      "source": [
        "##### XGBoost model"
      ],
      "metadata": {
        "id": "vbafH-2o0KqM"
      },
      "id": "vbafH-2o0KqM"
    },
    {
      "cell_type": "code",
      "source": [
        "!pip install xgboost"
      ],
      "metadata": {
        "id": "XlhBAIOV0NYB"
      },
      "id": "XlhBAIOV0NYB",
      "execution_count": null,
      "outputs": []
    },
    {
      "cell_type": "code",
      "source": [
        "from xgboost import XGBClassifier\n",
        "xgb_clf= XGBClassifier(random_state=0)\n",
        "xgb_clf.fit(X_tree,y_tree)\n",
        "y_trainpred= xgb_clf.predict(X_tree)\n",
        "y_testpred= xgb_clf.predict(X_tree_test)"
      ],
      "metadata": {
        "id": "wn8bnxeJ0cFk"
      },
      "id": "wn8bnxeJ0cFk",
      "execution_count": null,
      "outputs": []
    },
    {
      "cell_type": "code",
      "source": [
        "print('train data results')\n",
        "get_metrics(y_tree,y_trainpred)"
      ],
      "metadata": {
        "id": "7mK0eT4s1mT8"
      },
      "id": "7mK0eT4s1mT8",
      "execution_count": null,
      "outputs": []
    },
    {
      "cell_type": "code",
      "source": [
        "print('test data results')\n",
        "get_metrics(y_tree_test,y_testpred)"
      ],
      "metadata": {
        "id": "sVqbfy641qg2"
      },
      "id": "sVqbfy641qg2",
      "execution_count": null,
      "outputs": []
    },
    {
      "cell_type": "markdown",
      "source": [
        "##### Model is good, in terms of accuracy, precision, recall everything seems to be good."
      ],
      "metadata": {
        "id": "PDHe03wy2eOX"
      },
      "id": "PDHe03wy2eOX"
    },
    {
      "cell_type": "markdown",
      "source": [
        "#### LightGBM Classifier"
      ],
      "metadata": {
        "id": "DyBrjOQO3PNa"
      },
      "id": "DyBrjOQO3PNa"
    },
    {
      "cell_type": "code",
      "source": [
        "import lightgbm\n",
        "from lightgbm import LGBMClassifier\n",
        "lightgbm_clf= LGBMClassifier(random_state=0)\n",
        "lightgbm_clf.fit(X_tree,y_tree)\n",
        "y_trainpred= lightgbm_clf.predict(X_tree)\n",
        "y_testpred= lightgbm_clf.predict(X_tree_test)"
      ],
      "metadata": {
        "id": "ehwqWwrK1s3u"
      },
      "id": "ehwqWwrK1s3u",
      "execution_count": null,
      "outputs": []
    },
    {
      "cell_type": "code",
      "source": [
        "print('train data results')\n",
        "get_metrics(y_tree,y_trainpred)"
      ],
      "metadata": {
        "id": "sURSb8eo3T__"
      },
      "id": "sURSb8eo3T__",
      "execution_count": null,
      "outputs": []
    },
    {
      "cell_type": "code",
      "source": [
        "print('test data results')\n",
        "get_metrics(y_tree_test,y_testpred)"
      ],
      "metadata": {
        "id": "VCpsb30I3s5L"
      },
      "id": "VCpsb30I3s5L",
      "execution_count": null,
      "outputs": []
    },
    {
      "cell_type": "code",
      "source": [
        "#### let's tune the model params to see the result "
      ],
      "metadata": {
        "id": "M3LlWI-93vWD"
      },
      "id": "M3LlWI-93vWD",
      "execution_count": null,
      "outputs": []
    },
    {
      "cell_type": "code",
      "source": [
        "lgbm_params={'n_estimators':[i for i in range(100,1500,200)],'max_depth':[i for i in range(3,12,2)],'learning_rate':[0.0001, 0.001, 0.01, 0.1, 1.0]}\n",
        "lgbm_random_model= randomized_search_cv(lightgbm_clf,lgbm_params,X_tree,y_tree)"
      ],
      "metadata": {
        "id": "JtIW3qKd33AG"
      },
      "id": "JtIW3qKd33AG",
      "execution_count": null,
      "outputs": []
    },
    {
      "cell_type": "code",
      "source": [
        "lgbm_tuned_clf= LGBMClassifier(**lgbm_random_model.best_params_,random_state=0)\n",
        "lgbm_tuned_clf.fit(X_tree,y_tree)\n",
        "y_trainpred= lgbm_tuned_clf.predict(X_tree)\n",
        "y_testpred= lgbm_tuned_clf.predict(X_tree_test)"
      ],
      "metadata": {
        "id": "vZXXzroU4xQx"
      },
      "id": "vZXXzroU4xQx",
      "execution_count": null,
      "outputs": []
    },
    {
      "cell_type": "code",
      "source": [
        "print('train data results')\n",
        "get_metrics(y_tree,y_trainpred)"
      ],
      "metadata": {
        "id": "IvUyktqh5x9x"
      },
      "id": "IvUyktqh5x9x",
      "execution_count": null,
      "outputs": []
    },
    {
      "cell_type": "code",
      "source": [
        "print('test data results')\n",
        "get_metrics(y_tree_test,y_testpred)"
      ],
      "metadata": {
        "id": "FsFrZzWe51Pu"
      },
      "id": "FsFrZzWe51Pu",
      "execution_count": null,
      "outputs": []
    },
    {
      "cell_type": "code",
      "source": [],
      "metadata": {
        "id": "iHQuJwgn55Ql"
      },
      "id": "iHQuJwgn55Ql",
      "execution_count": null,
      "outputs": []
    },
    {
      "cell_type": "markdown",
      "source": [
        "#### Comparision of ML Models used\n",
        "\n",
        "1. Logistic Regression\n",
        "\n",
        "![image.png](data:image/png;base64,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)\n",
        "\n",
        "\n",
        "\n",
        "##### Decision Tree Model\n",
        "\n",
        "![image.png](data:image/png;base64,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)\n",
        "\n",
        "\n",
        "\n",
        "##### Random Forest Classifier\n",
        "\n",
        "\n",
        "![image.png](data:image/png;base64,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)\n",
        "\n",
        "\n",
        "\n",
        "##### Adaboost classifier\n",
        "\n",
        "![image.png](data:image/png;base64,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)\n",
        "\n",
        "\n",
        "##### XGBoost Classifier\n",
        "\n",
        "![image.png](data:image/png;base64,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)\n",
        "\n",
        "\n",
        "##### Light GBM classifier\n",
        "\n",
        "![image.png](data:image/png;base64,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)"
      ],
      "metadata": {
        "id": "I84KJ81R_8aI"
      },
      "id": "I84KJ81R_8aI"
    },
    {
      "cell_type": "markdown",
      "source": [
        "##### Final Observations\n",
        "\n",
        "1. Comparing all the model metrics, i could find that XGBoost classifier model is better. It has recall, precision, accuracy good overall. [ Light gbm model seems to be little overfitting after and before tuning]\n",
        "\n",
        "2. Second comes adaboost model which has good values of accuracy, precision and recall.\n",
        "\n",
        "3. Third comes the RandomForest Classifier model\n",
        "\n",
        "4. Fourth will be Decision tree classifier model\n",
        "\n",
        "5. Fifth will be logistic regression model\n",
        "\n",
        "\n",
        "\n",
        "#### For the study purposes, we can choose Xgboost model :) :)"
      ],
      "metadata": {
        "id": "wdEGMcEHEUrX"
      },
      "id": "wdEGMcEHEUrX"
    },
    {
      "cell_type": "markdown",
      "source": [
        "###### ---------------------------------------------------------------------------------------------------------END----------------------------------------------------------------------------------------------------------------"
      ],
      "metadata": {
        "id": "aeQ3643QFL--"
      },
      "id": "aeQ3643QFL--"
    },
    {
      "cell_type": "code",
      "source": [],
      "metadata": {
        "id": "aA8C85S8FSIJ"
      },
      "id": "aA8C85S8FSIJ",
      "execution_count": null,
      "outputs": []
    }
  ],
  "metadata": {
    "kernelspec": {
      "display_name": "Python 3",
      "language": "python",
      "name": "python3"
    },
    "language_info": {
      "codemirror_mode": {
        "name": "ipython",
        "version": 3
      },
      "file_extension": ".py",
      "mimetype": "text/x-python",
      "name": "python",
      "nbconvert_exporter": "python",
      "pygments_lexer": "ipython3",
      "version": "3.7.12"
    },
    "papermill": {
      "default_parameters": {},
      "duration": 616.330847,
      "end_time": "2022-08-24T10:11:04.438638",
      "environment_variables": {},
      "exception": null,
      "input_path": "__notebook__.ipynb",
      "output_path": "__notebook__.ipynb",
      "parameters": {},
      "start_time": "2022-08-24T10:00:48.107791",
      "version": "2.3.4"
    },
    "colab": {
      "name": "credit_card_churn_prediction_classifcation_final_model.ipynb",
      "provenance": [],
      "collapsed_sections": [
        "d57eb555",
        "de573edc",
        "65f613e4",
        "2a50e954",
        "3731b96c",
        "3f2a07fd",
        "34b526b0",
        "31068171",
        "fc6bee15",
        "2812ef74",
        "a01e134a",
        "6166b2b9",
        "da72ea1e",
        "bcaa8c50",
        "efb17721",
        "620d2051",
        "c9ffccc8",
        "1314be18",
        "af357116",
        "933e3c26",
        "c11066f1",
        "30034e0b",
        "b5a2826b"
      ]
    }
  },
  "nbformat": 4,
  "nbformat_minor": 5
}